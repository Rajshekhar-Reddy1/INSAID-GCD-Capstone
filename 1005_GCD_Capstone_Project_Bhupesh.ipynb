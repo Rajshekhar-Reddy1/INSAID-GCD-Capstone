{
  "nbformat": 4,
  "nbformat_minor": 0,
  "metadata": {
    "colab": {
      "name": "1005 GCD Capstone Project - Bhupesh.ipynb",
      "provenance": [],
      "collapsed_sections": [],
      "authorship_tag": "ABX9TyM4rP/vIgp3QckLUSJeXi5j",
      "include_colab_link": true
    },
    "kernelspec": {
      "name": "python3",
      "display_name": "Python 3"
    },
    "language_info": {
      "name": "python"
    }
  },
  "cells": [
    {
      "cell_type": "markdown",
      "metadata": {
        "id": "view-in-github",
        "colab_type": "text"
      },
      "source": [
        "<a href=\"https://colab.research.google.com/github/bhupeshmahara/INSAID-GCD-Capstone/blob/main/1005_GCD_Capstone_Project_Bhupesh.ipynb\" target=\"_parent\"><img src=\"https://colab.research.google.com/assets/colab-badge.svg\" alt=\"Open In Colab\"/></a>"
      ]
    },
    {
      "cell_type": "markdown",
      "source": [
        "<center><h2>GCD Capstone Project : Employee Retention</h2></center>\n",
        "<center><h3>Group ID : 1005</h3></center>"
      ],
      "metadata": {
        "id": "vfsCpCi9yE21"
      }
    },
    {
      "cell_type": "markdown",
      "source": [
        "# 1. Problem Statement\n",
        "\n",
        "Predict whether or not an employee would stay given the data of employees at a company.\n",
        "\n",
        "Your client for this project is the HR Department at a software company.\n",
        "\n",
        "    They want to try a new initiative to retain employees.\n",
        "    The idea is to use data to predict whether an employee is likely to leave.\n",
        "    Once these employees are identified, HR can be more proactive in reaching out to them before it's too late.\n",
        "    They only want to deal with the data that is related to permanent employees.\n",
        "\n",
        "Current Practice\n",
        "Once an employee leaves, he or she is taken an interview with the name \"exit interview\" and shares reasons for leaving. The HR Department then tries and learns insights from the interview and makes changes accordingly.\n",
        "\n",
        "This suffers from the following problems:\n",
        "\n",
        "    This approach is that it's too haphazard. The quality of insight gained from an interview depends heavily on the skill of the interviewer.\n",
        "    The second problem is these insights can't be aggregated and interlaced across all employees who have left.\n",
        "    The third is that it is too late by the time the proposed policy changes take effect.\n",
        "\n",
        "The HR department has hired you as data science consultants. They want to supplement their exit interviews with a more proactive approach.\n",
        "\n",
        "\n",
        "### Your Role\n",
        "\n",
        "    You are given datasets of past employees and their status (still employed or already left).\n",
        "    Your task is to build a classification model using the datasets.\n",
        "    Because there was no machine learning model for this problem in the company, you don’t have quantifiable win condition. \n",
        "    You need to build the best possible model.\n",
        "\n",
        "\n",
        "### Problem Specifics\n",
        "    Deliverable: Predict whether an employee will stay or leave.\n",
        "    Machine learning task: Classification\n",
        "    Target variable: Status (Employed/Left)\n",
        "    Win condition: N/A (best possible model)"
      ],
      "metadata": {
        "id": "uOG_N8xqy318"
      }
    },
    {
      "cell_type": "markdown",
      "source": [
        "# 2. Data Description\n",
        "\n",
        "\n",
        "\n",
        "The Business Intelligence Analysts of the Company provided you three datasets that contain information about past employees and their status (still employed or already left).\n",
        "\n",
        "    department_data\n",
        "\n",
        "    This dataset contains information about each department. The schema of the dataset is as follows:\n",
        "        dept_id – Unique Department Code\n",
        "        dept_name – Name of the Department\n",
        "        dept_head – Name of the Head of the Department\n",
        "\n",
        "    employee_details_data\n",
        "\n",
        "    This dataset consists of Employee ID, their Age, Gender and Marital Status. The schema of this dataset is as follows:\n",
        "        employee_id – Unique ID Number for each employee\n",
        "        age – Age of the employee\n",
        "        gender – Gender of the employee\n",
        "        marital_status – Marital Status of the employee\n",
        "\n",
        "    employee_data\n",
        "\n",
        "    This dataset consists of each employee’s Administrative Information, Workload Information, Mutual Evaluation Information and Status.\n",
        "\n",
        "    Target variable\n",
        "        status – Current employment status (Employed / Left)\n",
        "\n",
        "    Administrative information\n",
        "        department – Department to which the employees belong(ed) to\n",
        "        salary – Salary level with respect to rest of their department\n",
        "        tenure – Number of years at the company\n",
        "        recently_promoted – Was the employee promoted in the last 3 years?\n",
        "        employee_id – Unique ID Number for each employee\n",
        "\n",
        "    Workload information\n",
        "        n_projects – Number of projects employee has worked on\n",
        "        avg_monthly_hrs – Average number of hours worked per month\n",
        "\n",
        "    Mutual evaluation information\n",
        "        satisfaction – Score for employee’s satisfaction with the company (higher is better)\n",
        "        last_evaluation – Score for most recent evaluation of employee (higher is better)\n",
        "        filed_complaint – Has the employee filed a formal complaint in the last 3 years?\n"
      ],
      "metadata": {
        "id": "p6p6Qw9P0HLP"
      }
    },
    {
      "cell_type": "markdown",
      "source": [
        "# 3. Exploratory Data Analysis"
      ],
      "metadata": {
        "id": "zI6jPeLYy71y"
      }
    },
    {
      "cell_type": "code",
      "source": [
        "!pip install mysql-connector-python"
      ],
      "metadata": {
        "id": "5OIqny-6yik_",
        "colab": {
          "base_uri": "https://localhost:8080/"
        },
        "outputId": "40405574-2242-4b34-822f-ec39b86b0015"
      },
      "execution_count": 1,
      "outputs": [
        {
          "output_type": "stream",
          "name": "stdout",
          "text": [
            "Requirement already satisfied: mysql-connector-python in /usr/local/lib/python3.7/dist-packages (8.0.28)\n",
            "Requirement already satisfied: protobuf>=3.0.0 in /usr/local/lib/python3.7/dist-packages (from mysql-connector-python) (3.17.3)\n",
            "Requirement already satisfied: six>=1.9 in /usr/local/lib/python3.7/dist-packages (from protobuf>=3.0.0->mysql-connector-python) (1.15.0)\n"
          ]
        }
      ]
    },
    {
      "cell_type": "code",
      "source": [
        "# Database \n",
        "import mysql.connector\n",
        "from mysql.connector import Error\n",
        "from collections import Counter"
      ],
      "metadata": {
        "id": "TKksf84iyipe"
      },
      "execution_count": 2,
      "outputs": []
    },
    {
      "cell_type": "markdown",
      "source": [
        "#### Data Source\n",
        "Download the DataSets onto Python by connecting to the below provided MySQL instance.\n",
        "                      \n",
        "    host        'cpanel.insaid.co'\n",
        "    user \t   'student'\n",
        "    passwd      'student'\n",
        "    database    'Capstone2'"
      ],
      "metadata": {
        "id": "N0WkkpmO1YVM"
      }
    },
    {
      "cell_type": "code",
      "source": [
        "# import basic libraries\n",
        "import pandas as pd\n",
        "import numpy as np\n",
        "\n",
        "# import the required libraries from sklearn\n",
        "from sklearn import metrics\n",
        "from sklearn.preprocessing import LabelEncoder, MinMaxScaler\n",
        "from sklearn.metrics import accuracy_score, confusion_matrix, f1_score, precision_score, recall_score, precision_recall_fscore_support, roc_curve, auc\n",
        "from sklearn.model_selection import cross_val_score, GridSearchCV, train_test_split\n",
        "from sklearn.linear_model import LogisticRegression\n",
        "from sklearn.tree import DecisionTreeClassifier\n",
        "from sklearn.ensemble import RandomForestClassifier, GradientBoostingClassifier\n",
        "from sklearn.neighbors import KNeighborsClassifier\n",
        "from sklearn.naive_bayes import GaussianNB\n",
        "from xgboost import XGBClassifier\n",
        "\n",
        "# import plotting libraries\n",
        "import seaborn as sns\n",
        "import matplotlib.pyplot as plt\n",
        "%matplotlib inline\n",
        "\n",
        "import warnings \n",
        "warnings.filterwarnings('ignore')"
      ],
      "metadata": {
        "id": "wdDQKK1yzihp"
      },
      "execution_count": 3,
      "outputs": []
    },
    {
      "cell_type": "code",
      "source": [
        "try:\n",
        "    mySQLconnection = mysql.connector.connect(host='cpanel.insaid.co',\n",
        "                             database='Capstone2',\n",
        "                             user='student',\n",
        "                             password='student')\n",
        "    \n",
        "    if mySQLconnection.is_connected():\n",
        "        db_Info = mySQLconnection.get_server_info()\n",
        "        print(\"Connected to MySQL database... MySQL Server version on \",db_Info)\n",
        "        cursor = mySQLconnection.cursor()\n",
        "        cursor.execute(\"select database();\")\n",
        "        database = cursor.fetchone()\n",
        "        print (\"Your connected to - \", database)\n",
        "        \n",
        "        sql_select_Query = \"select * from department_data\"\n",
        "        SQL_Query = pd.read_sql_query(sql_select_Query, mySQLconnection)\n",
        "        df_departmentData = pd.DataFrame(SQL_Query)\n",
        "        \n",
        "        sql_select_Query = \"select * from employee_details_data\"\n",
        "        SQL_Query = pd.read_sql_query(sql_select_Query, mySQLconnection)\n",
        "        df_employeeDetailsData = pd.DataFrame(SQL_Query)\n",
        "\n",
        "        sql_select_Query = \"select * from employee_data\"\n",
        "        SQL_Query = pd.read_sql_query(sql_select_Query, mySQLconnection)\n",
        "        df_employeeData = pd.DataFrame(SQL_Query)\n",
        "\n",
        "except Error as e :\n",
        "    print (\"Error while connecting to MySQL\", e)\n",
        "    \n",
        "finally:\n",
        "    #closing database connection.\n",
        "    if(mySQLconnection .is_connected()):\n",
        "        mySQLconnection.close()\n",
        "        print(\"MySQL connection is closed\")"
      ],
      "metadata": {
        "colab": {
          "base_uri": "https://localhost:8080/"
        },
        "id": "rQkP6euX2eRB",
        "outputId": "4942bfdd-b9e3-4031-e855-4eb06419f4e3"
      },
      "execution_count": 4,
      "outputs": [
        {
          "output_type": "stream",
          "name": "stdout",
          "text": [
            "Connected to MySQL database... MySQL Server version on  8.0.28\n",
            "Your connected to -  ('Capstone2',)\n",
            "MySQL connection is closed\n"
          ]
        }
      ]
    },
    {
      "cell_type": "markdown",
      "source": [
        "Check the number of records and features/columns in each of the dataframes: department, employee, employee details"
      ],
      "metadata": {
        "id": "crxztrI32zFu"
      }
    },
    {
      "cell_type": "code",
      "source": [
        "df_departmentData.to_csv('department_data_sql.csv')\n",
        "print (df_departmentData.shape)\n",
        "df_employeeDetailsData.to_csv('employee_details_data_sql.csv')\n",
        "print (df_employeeDetailsData.shape)\n",
        "df_employeeData.to_csv('employee_data_sql.csv')\n",
        "print (df_employeeData.shape)"
      ],
      "metadata": {
        "colab": {
          "base_uri": "https://localhost:8080/"
        },
        "id": "n02cyf1k2wWt",
        "outputId": "f7474e76-3ea9-48d1-bb65-38890f94cc5e"
      },
      "execution_count": 5,
      "outputs": [
        {
          "output_type": "stream",
          "name": "stdout",
          "text": [
            "(11, 3)\n",
            "(14245, 4)\n",
            "(14150, 11)\n"
          ]
        }
      ]
    },
    {
      "cell_type": "markdown",
      "source": [
        "## a. Examine the data\n",
        "Now let us examine the data for general observations"
      ],
      "metadata": {
        "id": "7z39vmO5-w-Y"
      }
    },
    {
      "cell_type": "code",
      "source": [
        "df_departmentData.head()"
      ],
      "metadata": {
        "colab": {
          "base_uri": "https://localhost:8080/",
          "height": 206
        },
        "id": "fO3c95Yu_d0P",
        "outputId": "0db9b4ea-1216-4b27-880a-079a301cdc35"
      },
      "execution_count": 6,
      "outputs": [
        {
          "output_type": "execute_result",
          "data": {
            "text/plain": [
              "   dept_id    dept_name              dept_head\n",
              "0   D00-IT           IT             Henry Adey\n",
              "1   D00-SS        Sales        Edward J Bayley\n",
              "2   D00-TP         Temp        Micheal Zachrey\n",
              "3  D00-ENG  Engineering  Sushant Raghunathan K\n",
              "4   D00-SP      Support         Amelia Westray"
            ],
            "text/html": [
              "\n",
              "  <div id=\"df-853aa2aa-8d71-44c8-b19d-9d360c8c3a8a\">\n",
              "    <div class=\"colab-df-container\">\n",
              "      <div>\n",
              "<style scoped>\n",
              "    .dataframe tbody tr th:only-of-type {\n",
              "        vertical-align: middle;\n",
              "    }\n",
              "\n",
              "    .dataframe tbody tr th {\n",
              "        vertical-align: top;\n",
              "    }\n",
              "\n",
              "    .dataframe thead th {\n",
              "        text-align: right;\n",
              "    }\n",
              "</style>\n",
              "<table border=\"1\" class=\"dataframe\">\n",
              "  <thead>\n",
              "    <tr style=\"text-align: right;\">\n",
              "      <th></th>\n",
              "      <th>dept_id</th>\n",
              "      <th>dept_name</th>\n",
              "      <th>dept_head</th>\n",
              "    </tr>\n",
              "  </thead>\n",
              "  <tbody>\n",
              "    <tr>\n",
              "      <th>0</th>\n",
              "      <td>D00-IT</td>\n",
              "      <td>IT</td>\n",
              "      <td>Henry Adey</td>\n",
              "    </tr>\n",
              "    <tr>\n",
              "      <th>1</th>\n",
              "      <td>D00-SS</td>\n",
              "      <td>Sales</td>\n",
              "      <td>Edward J Bayley</td>\n",
              "    </tr>\n",
              "    <tr>\n",
              "      <th>2</th>\n",
              "      <td>D00-TP</td>\n",
              "      <td>Temp</td>\n",
              "      <td>Micheal Zachrey</td>\n",
              "    </tr>\n",
              "    <tr>\n",
              "      <th>3</th>\n",
              "      <td>D00-ENG</td>\n",
              "      <td>Engineering</td>\n",
              "      <td>Sushant Raghunathan K</td>\n",
              "    </tr>\n",
              "    <tr>\n",
              "      <th>4</th>\n",
              "      <td>D00-SP</td>\n",
              "      <td>Support</td>\n",
              "      <td>Amelia Westray</td>\n",
              "    </tr>\n",
              "  </tbody>\n",
              "</table>\n",
              "</div>\n",
              "      <button class=\"colab-df-convert\" onclick=\"convertToInteractive('df-853aa2aa-8d71-44c8-b19d-9d360c8c3a8a')\"\n",
              "              title=\"Convert this dataframe to an interactive table.\"\n",
              "              style=\"display:none;\">\n",
              "        \n",
              "  <svg xmlns=\"http://www.w3.org/2000/svg\" height=\"24px\"viewBox=\"0 0 24 24\"\n",
              "       width=\"24px\">\n",
              "    <path d=\"M0 0h24v24H0V0z\" fill=\"none\"/>\n",
              "    <path d=\"M18.56 5.44l.94 2.06.94-2.06 2.06-.94-2.06-.94-.94-2.06-.94 2.06-2.06.94zm-11 1L8.5 8.5l.94-2.06 2.06-.94-2.06-.94L8.5 2.5l-.94 2.06-2.06.94zm10 10l.94 2.06.94-2.06 2.06-.94-2.06-.94-.94-2.06-.94 2.06-2.06.94z\"/><path d=\"M17.41 7.96l-1.37-1.37c-.4-.4-.92-.59-1.43-.59-.52 0-1.04.2-1.43.59L10.3 9.45l-7.72 7.72c-.78.78-.78 2.05 0 2.83L4 21.41c.39.39.9.59 1.41.59.51 0 1.02-.2 1.41-.59l7.78-7.78 2.81-2.81c.8-.78.8-2.07 0-2.86zM5.41 20L4 18.59l7.72-7.72 1.47 1.35L5.41 20z\"/>\n",
              "  </svg>\n",
              "      </button>\n",
              "      \n",
              "  <style>\n",
              "    .colab-df-container {\n",
              "      display:flex;\n",
              "      flex-wrap:wrap;\n",
              "      gap: 12px;\n",
              "    }\n",
              "\n",
              "    .colab-df-convert {\n",
              "      background-color: #E8F0FE;\n",
              "      border: none;\n",
              "      border-radius: 50%;\n",
              "      cursor: pointer;\n",
              "      display: none;\n",
              "      fill: #1967D2;\n",
              "      height: 32px;\n",
              "      padding: 0 0 0 0;\n",
              "      width: 32px;\n",
              "    }\n",
              "\n",
              "    .colab-df-convert:hover {\n",
              "      background-color: #E2EBFA;\n",
              "      box-shadow: 0px 1px 2px rgba(60, 64, 67, 0.3), 0px 1px 3px 1px rgba(60, 64, 67, 0.15);\n",
              "      fill: #174EA6;\n",
              "    }\n",
              "\n",
              "    [theme=dark] .colab-df-convert {\n",
              "      background-color: #3B4455;\n",
              "      fill: #D2E3FC;\n",
              "    }\n",
              "\n",
              "    [theme=dark] .colab-df-convert:hover {\n",
              "      background-color: #434B5C;\n",
              "      box-shadow: 0px 1px 3px 1px rgba(0, 0, 0, 0.15);\n",
              "      filter: drop-shadow(0px 1px 2px rgba(0, 0, 0, 0.3));\n",
              "      fill: #FFFFFF;\n",
              "    }\n",
              "  </style>\n",
              "\n",
              "      <script>\n",
              "        const buttonEl =\n",
              "          document.querySelector('#df-853aa2aa-8d71-44c8-b19d-9d360c8c3a8a button.colab-df-convert');\n",
              "        buttonEl.style.display =\n",
              "          google.colab.kernel.accessAllowed ? 'block' : 'none';\n",
              "\n",
              "        async function convertToInteractive(key) {\n",
              "          const element = document.querySelector('#df-853aa2aa-8d71-44c8-b19d-9d360c8c3a8a');\n",
              "          const dataTable =\n",
              "            await google.colab.kernel.invokeFunction('convertToInteractive',\n",
              "                                                     [key], {});\n",
              "          if (!dataTable) return;\n",
              "\n",
              "          const docLinkHtml = 'Like what you see? Visit the ' +\n",
              "            '<a target=\"_blank\" href=https://colab.research.google.com/notebooks/data_table.ipynb>data table notebook</a>'\n",
              "            + ' to learn more about interactive tables.';\n",
              "          element.innerHTML = '';\n",
              "          dataTable['output_type'] = 'display_data';\n",
              "          await google.colab.output.renderOutput(dataTable, element);\n",
              "          const docLink = document.createElement('div');\n",
              "          docLink.innerHTML = docLinkHtml;\n",
              "          element.appendChild(docLink);\n",
              "        }\n",
              "      </script>\n",
              "    </div>\n",
              "  </div>\n",
              "  "
            ]
          },
          "metadata": {},
          "execution_count": 6
        }
      ]
    },
    {
      "cell_type": "code",
      "source": [
        "df_departmentData.info()"
      ],
      "metadata": {
        "colab": {
          "base_uri": "https://localhost:8080/"
        },
        "id": "tHlePeWOHOVl",
        "outputId": "5fc5af0c-6226-41da-d2ed-6925a71d3d9d"
      },
      "execution_count": 7,
      "outputs": [
        {
          "output_type": "stream",
          "name": "stdout",
          "text": [
            "<class 'pandas.core.frame.DataFrame'>\n",
            "RangeIndex: 11 entries, 0 to 10\n",
            "Data columns (total 3 columns):\n",
            " #   Column     Non-Null Count  Dtype \n",
            "---  ------     --------------  ----- \n",
            " 0   dept_id    11 non-null     object\n",
            " 1   dept_name  11 non-null     object\n",
            " 2   dept_head  11 non-null     object\n",
            "dtypes: object(3)\n",
            "memory usage: 392.0+ bytes\n"
          ]
        }
      ]
    },
    {
      "cell_type": "code",
      "source": [
        "df_employeeDetailsData.head()"
      ],
      "metadata": {
        "colab": {
          "base_uri": "https://localhost:8080/",
          "height": 206
        },
        "id": "yXAJIb25-4Y3",
        "outputId": "f461402a-a11e-47f1-83bc-b34645c6de41"
      },
      "execution_count": 8,
      "outputs": [
        {
          "output_type": "execute_result",
          "data": {
            "text/plain": [
              "   employee_id  age  gender marital_status\n",
              "0       113558   43    Male        Married\n",
              "1       112256   24  Female      Unmarried\n",
              "2       112586   22  Female      Unmarried\n",
              "3       108071   36    Male        Married\n",
              "4       116915   38    Male        Married"
            ],
            "text/html": [
              "\n",
              "  <div id=\"df-17515376-22d1-4889-8bea-aaea1f22c17a\">\n",
              "    <div class=\"colab-df-container\">\n",
              "      <div>\n",
              "<style scoped>\n",
              "    .dataframe tbody tr th:only-of-type {\n",
              "        vertical-align: middle;\n",
              "    }\n",
              "\n",
              "    .dataframe tbody tr th {\n",
              "        vertical-align: top;\n",
              "    }\n",
              "\n",
              "    .dataframe thead th {\n",
              "        text-align: right;\n",
              "    }\n",
              "</style>\n",
              "<table border=\"1\" class=\"dataframe\">\n",
              "  <thead>\n",
              "    <tr style=\"text-align: right;\">\n",
              "      <th></th>\n",
              "      <th>employee_id</th>\n",
              "      <th>age</th>\n",
              "      <th>gender</th>\n",
              "      <th>marital_status</th>\n",
              "    </tr>\n",
              "  </thead>\n",
              "  <tbody>\n",
              "    <tr>\n",
              "      <th>0</th>\n",
              "      <td>113558</td>\n",
              "      <td>43</td>\n",
              "      <td>Male</td>\n",
              "      <td>Married</td>\n",
              "    </tr>\n",
              "    <tr>\n",
              "      <th>1</th>\n",
              "      <td>112256</td>\n",
              "      <td>24</td>\n",
              "      <td>Female</td>\n",
              "      <td>Unmarried</td>\n",
              "    </tr>\n",
              "    <tr>\n",
              "      <th>2</th>\n",
              "      <td>112586</td>\n",
              "      <td>22</td>\n",
              "      <td>Female</td>\n",
              "      <td>Unmarried</td>\n",
              "    </tr>\n",
              "    <tr>\n",
              "      <th>3</th>\n",
              "      <td>108071</td>\n",
              "      <td>36</td>\n",
              "      <td>Male</td>\n",
              "      <td>Married</td>\n",
              "    </tr>\n",
              "    <tr>\n",
              "      <th>4</th>\n",
              "      <td>116915</td>\n",
              "      <td>38</td>\n",
              "      <td>Male</td>\n",
              "      <td>Married</td>\n",
              "    </tr>\n",
              "  </tbody>\n",
              "</table>\n",
              "</div>\n",
              "      <button class=\"colab-df-convert\" onclick=\"convertToInteractive('df-17515376-22d1-4889-8bea-aaea1f22c17a')\"\n",
              "              title=\"Convert this dataframe to an interactive table.\"\n",
              "              style=\"display:none;\">\n",
              "        \n",
              "  <svg xmlns=\"http://www.w3.org/2000/svg\" height=\"24px\"viewBox=\"0 0 24 24\"\n",
              "       width=\"24px\">\n",
              "    <path d=\"M0 0h24v24H0V0z\" fill=\"none\"/>\n",
              "    <path d=\"M18.56 5.44l.94 2.06.94-2.06 2.06-.94-2.06-.94-.94-2.06-.94 2.06-2.06.94zm-11 1L8.5 8.5l.94-2.06 2.06-.94-2.06-.94L8.5 2.5l-.94 2.06-2.06.94zm10 10l.94 2.06.94-2.06 2.06-.94-2.06-.94-.94-2.06-.94 2.06-2.06.94z\"/><path d=\"M17.41 7.96l-1.37-1.37c-.4-.4-.92-.59-1.43-.59-.52 0-1.04.2-1.43.59L10.3 9.45l-7.72 7.72c-.78.78-.78 2.05 0 2.83L4 21.41c.39.39.9.59 1.41.59.51 0 1.02-.2 1.41-.59l7.78-7.78 2.81-2.81c.8-.78.8-2.07 0-2.86zM5.41 20L4 18.59l7.72-7.72 1.47 1.35L5.41 20z\"/>\n",
              "  </svg>\n",
              "      </button>\n",
              "      \n",
              "  <style>\n",
              "    .colab-df-container {\n",
              "      display:flex;\n",
              "      flex-wrap:wrap;\n",
              "      gap: 12px;\n",
              "    }\n",
              "\n",
              "    .colab-df-convert {\n",
              "      background-color: #E8F0FE;\n",
              "      border: none;\n",
              "      border-radius: 50%;\n",
              "      cursor: pointer;\n",
              "      display: none;\n",
              "      fill: #1967D2;\n",
              "      height: 32px;\n",
              "      padding: 0 0 0 0;\n",
              "      width: 32px;\n",
              "    }\n",
              "\n",
              "    .colab-df-convert:hover {\n",
              "      background-color: #E2EBFA;\n",
              "      box-shadow: 0px 1px 2px rgba(60, 64, 67, 0.3), 0px 1px 3px 1px rgba(60, 64, 67, 0.15);\n",
              "      fill: #174EA6;\n",
              "    }\n",
              "\n",
              "    [theme=dark] .colab-df-convert {\n",
              "      background-color: #3B4455;\n",
              "      fill: #D2E3FC;\n",
              "    }\n",
              "\n",
              "    [theme=dark] .colab-df-convert:hover {\n",
              "      background-color: #434B5C;\n",
              "      box-shadow: 0px 1px 3px 1px rgba(0, 0, 0, 0.15);\n",
              "      filter: drop-shadow(0px 1px 2px rgba(0, 0, 0, 0.3));\n",
              "      fill: #FFFFFF;\n",
              "    }\n",
              "  </style>\n",
              "\n",
              "      <script>\n",
              "        const buttonEl =\n",
              "          document.querySelector('#df-17515376-22d1-4889-8bea-aaea1f22c17a button.colab-df-convert');\n",
              "        buttonEl.style.display =\n",
              "          google.colab.kernel.accessAllowed ? 'block' : 'none';\n",
              "\n",
              "        async function convertToInteractive(key) {\n",
              "          const element = document.querySelector('#df-17515376-22d1-4889-8bea-aaea1f22c17a');\n",
              "          const dataTable =\n",
              "            await google.colab.kernel.invokeFunction('convertToInteractive',\n",
              "                                                     [key], {});\n",
              "          if (!dataTable) return;\n",
              "\n",
              "          const docLinkHtml = 'Like what you see? Visit the ' +\n",
              "            '<a target=\"_blank\" href=https://colab.research.google.com/notebooks/data_table.ipynb>data table notebook</a>'\n",
              "            + ' to learn more about interactive tables.';\n",
              "          element.innerHTML = '';\n",
              "          dataTable['output_type'] = 'display_data';\n",
              "          await google.colab.output.renderOutput(dataTable, element);\n",
              "          const docLink = document.createElement('div');\n",
              "          docLink.innerHTML = docLinkHtml;\n",
              "          element.appendChild(docLink);\n",
              "        }\n",
              "      </script>\n",
              "    </div>\n",
              "  </div>\n",
              "  "
            ]
          },
          "metadata": {},
          "execution_count": 8
        }
      ]
    },
    {
      "cell_type": "code",
      "source": [
        "df_employeeDetailsData.describe()"
      ],
      "metadata": {
        "colab": {
          "base_uri": "https://localhost:8080/",
          "height": 300
        },
        "id": "hbn8oONd_Wlw",
        "outputId": "83186285-f780-490a-9caa-f5e8d2a5ab32"
      },
      "execution_count": 9,
      "outputs": [
        {
          "output_type": "execute_result",
          "data": {
            "text/plain": [
              "         employee_id           age\n",
              "count   14245.000000  14245.000000\n",
              "mean   112123.050544     32.889926\n",
              "std      8500.457343      9.970834\n",
              "min    100101.000000     22.000000\n",
              "25%    105775.000000     24.000000\n",
              "50%    111298.000000     29.000000\n",
              "75%    116658.000000     41.000000\n",
              "max    148988.000000     57.000000"
            ],
            "text/html": [
              "\n",
              "  <div id=\"df-7d2634b2-e425-41e7-9325-50d092a07916\">\n",
              "    <div class=\"colab-df-container\">\n",
              "      <div>\n",
              "<style scoped>\n",
              "    .dataframe tbody tr th:only-of-type {\n",
              "        vertical-align: middle;\n",
              "    }\n",
              "\n",
              "    .dataframe tbody tr th {\n",
              "        vertical-align: top;\n",
              "    }\n",
              "\n",
              "    .dataframe thead th {\n",
              "        text-align: right;\n",
              "    }\n",
              "</style>\n",
              "<table border=\"1\" class=\"dataframe\">\n",
              "  <thead>\n",
              "    <tr style=\"text-align: right;\">\n",
              "      <th></th>\n",
              "      <th>employee_id</th>\n",
              "      <th>age</th>\n",
              "    </tr>\n",
              "  </thead>\n",
              "  <tbody>\n",
              "    <tr>\n",
              "      <th>count</th>\n",
              "      <td>14245.000000</td>\n",
              "      <td>14245.000000</td>\n",
              "    </tr>\n",
              "    <tr>\n",
              "      <th>mean</th>\n",
              "      <td>112123.050544</td>\n",
              "      <td>32.889926</td>\n",
              "    </tr>\n",
              "    <tr>\n",
              "      <th>std</th>\n",
              "      <td>8500.457343</td>\n",
              "      <td>9.970834</td>\n",
              "    </tr>\n",
              "    <tr>\n",
              "      <th>min</th>\n",
              "      <td>100101.000000</td>\n",
              "      <td>22.000000</td>\n",
              "    </tr>\n",
              "    <tr>\n",
              "      <th>25%</th>\n",
              "      <td>105775.000000</td>\n",
              "      <td>24.000000</td>\n",
              "    </tr>\n",
              "    <tr>\n",
              "      <th>50%</th>\n",
              "      <td>111298.000000</td>\n",
              "      <td>29.000000</td>\n",
              "    </tr>\n",
              "    <tr>\n",
              "      <th>75%</th>\n",
              "      <td>116658.000000</td>\n",
              "      <td>41.000000</td>\n",
              "    </tr>\n",
              "    <tr>\n",
              "      <th>max</th>\n",
              "      <td>148988.000000</td>\n",
              "      <td>57.000000</td>\n",
              "    </tr>\n",
              "  </tbody>\n",
              "</table>\n",
              "</div>\n",
              "      <button class=\"colab-df-convert\" onclick=\"convertToInteractive('df-7d2634b2-e425-41e7-9325-50d092a07916')\"\n",
              "              title=\"Convert this dataframe to an interactive table.\"\n",
              "              style=\"display:none;\">\n",
              "        \n",
              "  <svg xmlns=\"http://www.w3.org/2000/svg\" height=\"24px\"viewBox=\"0 0 24 24\"\n",
              "       width=\"24px\">\n",
              "    <path d=\"M0 0h24v24H0V0z\" fill=\"none\"/>\n",
              "    <path d=\"M18.56 5.44l.94 2.06.94-2.06 2.06-.94-2.06-.94-.94-2.06-.94 2.06-2.06.94zm-11 1L8.5 8.5l.94-2.06 2.06-.94-2.06-.94L8.5 2.5l-.94 2.06-2.06.94zm10 10l.94 2.06.94-2.06 2.06-.94-2.06-.94-.94-2.06-.94 2.06-2.06.94z\"/><path d=\"M17.41 7.96l-1.37-1.37c-.4-.4-.92-.59-1.43-.59-.52 0-1.04.2-1.43.59L10.3 9.45l-7.72 7.72c-.78.78-.78 2.05 0 2.83L4 21.41c.39.39.9.59 1.41.59.51 0 1.02-.2 1.41-.59l7.78-7.78 2.81-2.81c.8-.78.8-2.07 0-2.86zM5.41 20L4 18.59l7.72-7.72 1.47 1.35L5.41 20z\"/>\n",
              "  </svg>\n",
              "      </button>\n",
              "      \n",
              "  <style>\n",
              "    .colab-df-container {\n",
              "      display:flex;\n",
              "      flex-wrap:wrap;\n",
              "      gap: 12px;\n",
              "    }\n",
              "\n",
              "    .colab-df-convert {\n",
              "      background-color: #E8F0FE;\n",
              "      border: none;\n",
              "      border-radius: 50%;\n",
              "      cursor: pointer;\n",
              "      display: none;\n",
              "      fill: #1967D2;\n",
              "      height: 32px;\n",
              "      padding: 0 0 0 0;\n",
              "      width: 32px;\n",
              "    }\n",
              "\n",
              "    .colab-df-convert:hover {\n",
              "      background-color: #E2EBFA;\n",
              "      box-shadow: 0px 1px 2px rgba(60, 64, 67, 0.3), 0px 1px 3px 1px rgba(60, 64, 67, 0.15);\n",
              "      fill: #174EA6;\n",
              "    }\n",
              "\n",
              "    [theme=dark] .colab-df-convert {\n",
              "      background-color: #3B4455;\n",
              "      fill: #D2E3FC;\n",
              "    }\n",
              "\n",
              "    [theme=dark] .colab-df-convert:hover {\n",
              "      background-color: #434B5C;\n",
              "      box-shadow: 0px 1px 3px 1px rgba(0, 0, 0, 0.15);\n",
              "      filter: drop-shadow(0px 1px 2px rgba(0, 0, 0, 0.3));\n",
              "      fill: #FFFFFF;\n",
              "    }\n",
              "  </style>\n",
              "\n",
              "      <script>\n",
              "        const buttonEl =\n",
              "          document.querySelector('#df-7d2634b2-e425-41e7-9325-50d092a07916 button.colab-df-convert');\n",
              "        buttonEl.style.display =\n",
              "          google.colab.kernel.accessAllowed ? 'block' : 'none';\n",
              "\n",
              "        async function convertToInteractive(key) {\n",
              "          const element = document.querySelector('#df-7d2634b2-e425-41e7-9325-50d092a07916');\n",
              "          const dataTable =\n",
              "            await google.colab.kernel.invokeFunction('convertToInteractive',\n",
              "                                                     [key], {});\n",
              "          if (!dataTable) return;\n",
              "\n",
              "          const docLinkHtml = 'Like what you see? Visit the ' +\n",
              "            '<a target=\"_blank\" href=https://colab.research.google.com/notebooks/data_table.ipynb>data table notebook</a>'\n",
              "            + ' to learn more about interactive tables.';\n",
              "          element.innerHTML = '';\n",
              "          dataTable['output_type'] = 'display_data';\n",
              "          await google.colab.output.renderOutput(dataTable, element);\n",
              "          const docLink = document.createElement('div');\n",
              "          docLink.innerHTML = docLinkHtml;\n",
              "          element.appendChild(docLink);\n",
              "        }\n",
              "      </script>\n",
              "    </div>\n",
              "  </div>\n",
              "  "
            ]
          },
          "metadata": {},
          "execution_count": 9
        }
      ]
    },
    {
      "cell_type": "code",
      "source": [
        "df_employeeDetailsData.info()"
      ],
      "metadata": {
        "colab": {
          "base_uri": "https://localhost:8080/"
        },
        "id": "2Rsh_Q1ZHTuV",
        "outputId": "23969a35-36ca-4919-b9ce-e13fca20164a"
      },
      "execution_count": 10,
      "outputs": [
        {
          "output_type": "stream",
          "name": "stdout",
          "text": [
            "<class 'pandas.core.frame.DataFrame'>\n",
            "RangeIndex: 14245 entries, 0 to 14244\n",
            "Data columns (total 4 columns):\n",
            " #   Column          Non-Null Count  Dtype \n",
            "---  ------          --------------  ----- \n",
            " 0   employee_id     14245 non-null  int64 \n",
            " 1   age             14245 non-null  int64 \n",
            " 2   gender          14245 non-null  object\n",
            " 3   marital_status  14245 non-null  object\n",
            "dtypes: int64(2), object(2)\n",
            "memory usage: 445.3+ KB\n"
          ]
        }
      ]
    },
    {
      "cell_type": "code",
      "source": [
        "df_employeeData.head()"
      ],
      "metadata": {
        "colab": {
          "base_uri": "https://localhost:8080/",
          "height": 206
        },
        "id": "P6vxC2d9_E3N",
        "outputId": "3bab1462-9360-4eb6-a569-2cacc780fdba"
      },
      "execution_count": 11,
      "outputs": [
        {
          "output_type": "execute_result",
          "data": {
            "text/plain": [
              "   avg_monthly_hrs department  filed_complaint  last_evaluation  n_projects  \\\n",
              "0            246.0       None              NaN         0.866838           6   \n",
              "1            134.0       None              NaN         0.555718           2   \n",
              "2            156.0     D00-SS              1.0         0.474082           2   \n",
              "3            256.0     D00-SP              NaN         0.961360           6   \n",
              "4            146.0     D00-SS              NaN         0.507349           2   \n",
              "\n",
              "   recently_promoted  salary  satisfaction status  tenure  employee_id  \n",
              "0                NaN  medium      0.134415   Left     4.0       124467  \n",
              "1                NaN     low      0.511041   Left     3.0       112210  \n",
              "2                NaN  medium      0.405101   Left     3.0       126150  \n",
              "3                NaN     low      0.152974   Left     4.0       125346  \n",
              "4                NaN  medium      0.434845   Left     3.0       113707  "
            ],
            "text/html": [
              "\n",
              "  <div id=\"df-48c8c7b7-4a0b-468e-a194-bc9fb85663aa\">\n",
              "    <div class=\"colab-df-container\">\n",
              "      <div>\n",
              "<style scoped>\n",
              "    .dataframe tbody tr th:only-of-type {\n",
              "        vertical-align: middle;\n",
              "    }\n",
              "\n",
              "    .dataframe tbody tr th {\n",
              "        vertical-align: top;\n",
              "    }\n",
              "\n",
              "    .dataframe thead th {\n",
              "        text-align: right;\n",
              "    }\n",
              "</style>\n",
              "<table border=\"1\" class=\"dataframe\">\n",
              "  <thead>\n",
              "    <tr style=\"text-align: right;\">\n",
              "      <th></th>\n",
              "      <th>avg_monthly_hrs</th>\n",
              "      <th>department</th>\n",
              "      <th>filed_complaint</th>\n",
              "      <th>last_evaluation</th>\n",
              "      <th>n_projects</th>\n",
              "      <th>recently_promoted</th>\n",
              "      <th>salary</th>\n",
              "      <th>satisfaction</th>\n",
              "      <th>status</th>\n",
              "      <th>tenure</th>\n",
              "      <th>employee_id</th>\n",
              "    </tr>\n",
              "  </thead>\n",
              "  <tbody>\n",
              "    <tr>\n",
              "      <th>0</th>\n",
              "      <td>246.0</td>\n",
              "      <td>None</td>\n",
              "      <td>NaN</td>\n",
              "      <td>0.866838</td>\n",
              "      <td>6</td>\n",
              "      <td>NaN</td>\n",
              "      <td>medium</td>\n",
              "      <td>0.134415</td>\n",
              "      <td>Left</td>\n",
              "      <td>4.0</td>\n",
              "      <td>124467</td>\n",
              "    </tr>\n",
              "    <tr>\n",
              "      <th>1</th>\n",
              "      <td>134.0</td>\n",
              "      <td>None</td>\n",
              "      <td>NaN</td>\n",
              "      <td>0.555718</td>\n",
              "      <td>2</td>\n",
              "      <td>NaN</td>\n",
              "      <td>low</td>\n",
              "      <td>0.511041</td>\n",
              "      <td>Left</td>\n",
              "      <td>3.0</td>\n",
              "      <td>112210</td>\n",
              "    </tr>\n",
              "    <tr>\n",
              "      <th>2</th>\n",
              "      <td>156.0</td>\n",
              "      <td>D00-SS</td>\n",
              "      <td>1.0</td>\n",
              "      <td>0.474082</td>\n",
              "      <td>2</td>\n",
              "      <td>NaN</td>\n",
              "      <td>medium</td>\n",
              "      <td>0.405101</td>\n",
              "      <td>Left</td>\n",
              "      <td>3.0</td>\n",
              "      <td>126150</td>\n",
              "    </tr>\n",
              "    <tr>\n",
              "      <th>3</th>\n",
              "      <td>256.0</td>\n",
              "      <td>D00-SP</td>\n",
              "      <td>NaN</td>\n",
              "      <td>0.961360</td>\n",
              "      <td>6</td>\n",
              "      <td>NaN</td>\n",
              "      <td>low</td>\n",
              "      <td>0.152974</td>\n",
              "      <td>Left</td>\n",
              "      <td>4.0</td>\n",
              "      <td>125346</td>\n",
              "    </tr>\n",
              "    <tr>\n",
              "      <th>4</th>\n",
              "      <td>146.0</td>\n",
              "      <td>D00-SS</td>\n",
              "      <td>NaN</td>\n",
              "      <td>0.507349</td>\n",
              "      <td>2</td>\n",
              "      <td>NaN</td>\n",
              "      <td>medium</td>\n",
              "      <td>0.434845</td>\n",
              "      <td>Left</td>\n",
              "      <td>3.0</td>\n",
              "      <td>113707</td>\n",
              "    </tr>\n",
              "  </tbody>\n",
              "</table>\n",
              "</div>\n",
              "      <button class=\"colab-df-convert\" onclick=\"convertToInteractive('df-48c8c7b7-4a0b-468e-a194-bc9fb85663aa')\"\n",
              "              title=\"Convert this dataframe to an interactive table.\"\n",
              "              style=\"display:none;\">\n",
              "        \n",
              "  <svg xmlns=\"http://www.w3.org/2000/svg\" height=\"24px\"viewBox=\"0 0 24 24\"\n",
              "       width=\"24px\">\n",
              "    <path d=\"M0 0h24v24H0V0z\" fill=\"none\"/>\n",
              "    <path d=\"M18.56 5.44l.94 2.06.94-2.06 2.06-.94-2.06-.94-.94-2.06-.94 2.06-2.06.94zm-11 1L8.5 8.5l.94-2.06 2.06-.94-2.06-.94L8.5 2.5l-.94 2.06-2.06.94zm10 10l.94 2.06.94-2.06 2.06-.94-2.06-.94-.94-2.06-.94 2.06-2.06.94z\"/><path d=\"M17.41 7.96l-1.37-1.37c-.4-.4-.92-.59-1.43-.59-.52 0-1.04.2-1.43.59L10.3 9.45l-7.72 7.72c-.78.78-.78 2.05 0 2.83L4 21.41c.39.39.9.59 1.41.59.51 0 1.02-.2 1.41-.59l7.78-7.78 2.81-2.81c.8-.78.8-2.07 0-2.86zM5.41 20L4 18.59l7.72-7.72 1.47 1.35L5.41 20z\"/>\n",
              "  </svg>\n",
              "      </button>\n",
              "      \n",
              "  <style>\n",
              "    .colab-df-container {\n",
              "      display:flex;\n",
              "      flex-wrap:wrap;\n",
              "      gap: 12px;\n",
              "    }\n",
              "\n",
              "    .colab-df-convert {\n",
              "      background-color: #E8F0FE;\n",
              "      border: none;\n",
              "      border-radius: 50%;\n",
              "      cursor: pointer;\n",
              "      display: none;\n",
              "      fill: #1967D2;\n",
              "      height: 32px;\n",
              "      padding: 0 0 0 0;\n",
              "      width: 32px;\n",
              "    }\n",
              "\n",
              "    .colab-df-convert:hover {\n",
              "      background-color: #E2EBFA;\n",
              "      box-shadow: 0px 1px 2px rgba(60, 64, 67, 0.3), 0px 1px 3px 1px rgba(60, 64, 67, 0.15);\n",
              "      fill: #174EA6;\n",
              "    }\n",
              "\n",
              "    [theme=dark] .colab-df-convert {\n",
              "      background-color: #3B4455;\n",
              "      fill: #D2E3FC;\n",
              "    }\n",
              "\n",
              "    [theme=dark] .colab-df-convert:hover {\n",
              "      background-color: #434B5C;\n",
              "      box-shadow: 0px 1px 3px 1px rgba(0, 0, 0, 0.15);\n",
              "      filter: drop-shadow(0px 1px 2px rgba(0, 0, 0, 0.3));\n",
              "      fill: #FFFFFF;\n",
              "    }\n",
              "  </style>\n",
              "\n",
              "      <script>\n",
              "        const buttonEl =\n",
              "          document.querySelector('#df-48c8c7b7-4a0b-468e-a194-bc9fb85663aa button.colab-df-convert');\n",
              "        buttonEl.style.display =\n",
              "          google.colab.kernel.accessAllowed ? 'block' : 'none';\n",
              "\n",
              "        async function convertToInteractive(key) {\n",
              "          const element = document.querySelector('#df-48c8c7b7-4a0b-468e-a194-bc9fb85663aa');\n",
              "          const dataTable =\n",
              "            await google.colab.kernel.invokeFunction('convertToInteractive',\n",
              "                                                     [key], {});\n",
              "          if (!dataTable) return;\n",
              "\n",
              "          const docLinkHtml = 'Like what you see? Visit the ' +\n",
              "            '<a target=\"_blank\" href=https://colab.research.google.com/notebooks/data_table.ipynb>data table notebook</a>'\n",
              "            + ' to learn more about interactive tables.';\n",
              "          element.innerHTML = '';\n",
              "          dataTable['output_type'] = 'display_data';\n",
              "          await google.colab.output.renderOutput(dataTable, element);\n",
              "          const docLink = document.createElement('div');\n",
              "          docLink.innerHTML = docLinkHtml;\n",
              "          element.appendChild(docLink);\n",
              "        }\n",
              "      </script>\n",
              "    </div>\n",
              "  </div>\n",
              "  "
            ]
          },
          "metadata": {},
          "execution_count": 11
        }
      ]
    },
    {
      "cell_type": "code",
      "source": [
        "df_employeeData.describe()"
      ],
      "metadata": {
        "colab": {
          "base_uri": "https://localhost:8080/",
          "height": 300
        },
        "id": "ofGTHZe5_Sc4",
        "outputId": "7e59dab2-2485-4a86-ea4f-81fe8da65332"
      },
      "execution_count": 12,
      "outputs": [
        {
          "output_type": "execute_result",
          "data": {
            "text/plain": [
              "       avg_monthly_hrs  filed_complaint  last_evaluation    n_projects  \\\n",
              "count     14150.000000           2046.0     12663.000000  14150.000000   \n",
              "mean        199.994346              1.0         0.718399      3.778304   \n",
              "std          50.833697              0.0         0.173108      1.250162   \n",
              "min          49.000000              1.0         0.316175      1.000000   \n",
              "25%         155.000000              1.0         0.563711      3.000000   \n",
              "50%         199.000000              1.0         0.724731      4.000000   \n",
              "75%         245.000000              1.0         0.871409      5.000000   \n",
              "max         310.000000              1.0         1.000000      7.000000   \n",
              "\n",
              "       recently_promoted  satisfaction        tenure    employee_id  \n",
              "count              297.0  14000.000000  14000.000000   14150.000000  \n",
              "mean                 1.0      0.621212      3.499357  112080.750247  \n",
              "std                  0.0      0.250482      1.462584    8748.202856  \n",
              "min                  1.0      0.040058      2.000000       0.000000  \n",
              "25%                  1.0      0.450356      3.000000  105772.500000  \n",
              "50%                  1.0      0.652394      3.000000  111291.500000  \n",
              "75%                  1.0      0.824925      4.000000  116650.750000  \n",
              "max                  1.0      1.000000     10.000000  148988.000000  "
            ],
            "text/html": [
              "\n",
              "  <div id=\"df-e64b54e6-36dd-47ac-9957-1ade918d0534\">\n",
              "    <div class=\"colab-df-container\">\n",
              "      <div>\n",
              "<style scoped>\n",
              "    .dataframe tbody tr th:only-of-type {\n",
              "        vertical-align: middle;\n",
              "    }\n",
              "\n",
              "    .dataframe tbody tr th {\n",
              "        vertical-align: top;\n",
              "    }\n",
              "\n",
              "    .dataframe thead th {\n",
              "        text-align: right;\n",
              "    }\n",
              "</style>\n",
              "<table border=\"1\" class=\"dataframe\">\n",
              "  <thead>\n",
              "    <tr style=\"text-align: right;\">\n",
              "      <th></th>\n",
              "      <th>avg_monthly_hrs</th>\n",
              "      <th>filed_complaint</th>\n",
              "      <th>last_evaluation</th>\n",
              "      <th>n_projects</th>\n",
              "      <th>recently_promoted</th>\n",
              "      <th>satisfaction</th>\n",
              "      <th>tenure</th>\n",
              "      <th>employee_id</th>\n",
              "    </tr>\n",
              "  </thead>\n",
              "  <tbody>\n",
              "    <tr>\n",
              "      <th>count</th>\n",
              "      <td>14150.000000</td>\n",
              "      <td>2046.0</td>\n",
              "      <td>12663.000000</td>\n",
              "      <td>14150.000000</td>\n",
              "      <td>297.0</td>\n",
              "      <td>14000.000000</td>\n",
              "      <td>14000.000000</td>\n",
              "      <td>14150.000000</td>\n",
              "    </tr>\n",
              "    <tr>\n",
              "      <th>mean</th>\n",
              "      <td>199.994346</td>\n",
              "      <td>1.0</td>\n",
              "      <td>0.718399</td>\n",
              "      <td>3.778304</td>\n",
              "      <td>1.0</td>\n",
              "      <td>0.621212</td>\n",
              "      <td>3.499357</td>\n",
              "      <td>112080.750247</td>\n",
              "    </tr>\n",
              "    <tr>\n",
              "      <th>std</th>\n",
              "      <td>50.833697</td>\n",
              "      <td>0.0</td>\n",
              "      <td>0.173108</td>\n",
              "      <td>1.250162</td>\n",
              "      <td>0.0</td>\n",
              "      <td>0.250482</td>\n",
              "      <td>1.462584</td>\n",
              "      <td>8748.202856</td>\n",
              "    </tr>\n",
              "    <tr>\n",
              "      <th>min</th>\n",
              "      <td>49.000000</td>\n",
              "      <td>1.0</td>\n",
              "      <td>0.316175</td>\n",
              "      <td>1.000000</td>\n",
              "      <td>1.0</td>\n",
              "      <td>0.040058</td>\n",
              "      <td>2.000000</td>\n",
              "      <td>0.000000</td>\n",
              "    </tr>\n",
              "    <tr>\n",
              "      <th>25%</th>\n",
              "      <td>155.000000</td>\n",
              "      <td>1.0</td>\n",
              "      <td>0.563711</td>\n",
              "      <td>3.000000</td>\n",
              "      <td>1.0</td>\n",
              "      <td>0.450356</td>\n",
              "      <td>3.000000</td>\n",
              "      <td>105772.500000</td>\n",
              "    </tr>\n",
              "    <tr>\n",
              "      <th>50%</th>\n",
              "      <td>199.000000</td>\n",
              "      <td>1.0</td>\n",
              "      <td>0.724731</td>\n",
              "      <td>4.000000</td>\n",
              "      <td>1.0</td>\n",
              "      <td>0.652394</td>\n",
              "      <td>3.000000</td>\n",
              "      <td>111291.500000</td>\n",
              "    </tr>\n",
              "    <tr>\n",
              "      <th>75%</th>\n",
              "      <td>245.000000</td>\n",
              "      <td>1.0</td>\n",
              "      <td>0.871409</td>\n",
              "      <td>5.000000</td>\n",
              "      <td>1.0</td>\n",
              "      <td>0.824925</td>\n",
              "      <td>4.000000</td>\n",
              "      <td>116650.750000</td>\n",
              "    </tr>\n",
              "    <tr>\n",
              "      <th>max</th>\n",
              "      <td>310.000000</td>\n",
              "      <td>1.0</td>\n",
              "      <td>1.000000</td>\n",
              "      <td>7.000000</td>\n",
              "      <td>1.0</td>\n",
              "      <td>1.000000</td>\n",
              "      <td>10.000000</td>\n",
              "      <td>148988.000000</td>\n",
              "    </tr>\n",
              "  </tbody>\n",
              "</table>\n",
              "</div>\n",
              "      <button class=\"colab-df-convert\" onclick=\"convertToInteractive('df-e64b54e6-36dd-47ac-9957-1ade918d0534')\"\n",
              "              title=\"Convert this dataframe to an interactive table.\"\n",
              "              style=\"display:none;\">\n",
              "        \n",
              "  <svg xmlns=\"http://www.w3.org/2000/svg\" height=\"24px\"viewBox=\"0 0 24 24\"\n",
              "       width=\"24px\">\n",
              "    <path d=\"M0 0h24v24H0V0z\" fill=\"none\"/>\n",
              "    <path d=\"M18.56 5.44l.94 2.06.94-2.06 2.06-.94-2.06-.94-.94-2.06-.94 2.06-2.06.94zm-11 1L8.5 8.5l.94-2.06 2.06-.94-2.06-.94L8.5 2.5l-.94 2.06-2.06.94zm10 10l.94 2.06.94-2.06 2.06-.94-2.06-.94-.94-2.06-.94 2.06-2.06.94z\"/><path d=\"M17.41 7.96l-1.37-1.37c-.4-.4-.92-.59-1.43-.59-.52 0-1.04.2-1.43.59L10.3 9.45l-7.72 7.72c-.78.78-.78 2.05 0 2.83L4 21.41c.39.39.9.59 1.41.59.51 0 1.02-.2 1.41-.59l7.78-7.78 2.81-2.81c.8-.78.8-2.07 0-2.86zM5.41 20L4 18.59l7.72-7.72 1.47 1.35L5.41 20z\"/>\n",
              "  </svg>\n",
              "      </button>\n",
              "      \n",
              "  <style>\n",
              "    .colab-df-container {\n",
              "      display:flex;\n",
              "      flex-wrap:wrap;\n",
              "      gap: 12px;\n",
              "    }\n",
              "\n",
              "    .colab-df-convert {\n",
              "      background-color: #E8F0FE;\n",
              "      border: none;\n",
              "      border-radius: 50%;\n",
              "      cursor: pointer;\n",
              "      display: none;\n",
              "      fill: #1967D2;\n",
              "      height: 32px;\n",
              "      padding: 0 0 0 0;\n",
              "      width: 32px;\n",
              "    }\n",
              "\n",
              "    .colab-df-convert:hover {\n",
              "      background-color: #E2EBFA;\n",
              "      box-shadow: 0px 1px 2px rgba(60, 64, 67, 0.3), 0px 1px 3px 1px rgba(60, 64, 67, 0.15);\n",
              "      fill: #174EA6;\n",
              "    }\n",
              "\n",
              "    [theme=dark] .colab-df-convert {\n",
              "      background-color: #3B4455;\n",
              "      fill: #D2E3FC;\n",
              "    }\n",
              "\n",
              "    [theme=dark] .colab-df-convert:hover {\n",
              "      background-color: #434B5C;\n",
              "      box-shadow: 0px 1px 3px 1px rgba(0, 0, 0, 0.15);\n",
              "      filter: drop-shadow(0px 1px 2px rgba(0, 0, 0, 0.3));\n",
              "      fill: #FFFFFF;\n",
              "    }\n",
              "  </style>\n",
              "\n",
              "      <script>\n",
              "        const buttonEl =\n",
              "          document.querySelector('#df-e64b54e6-36dd-47ac-9957-1ade918d0534 button.colab-df-convert');\n",
              "        buttonEl.style.display =\n",
              "          google.colab.kernel.accessAllowed ? 'block' : 'none';\n",
              "\n",
              "        async function convertToInteractive(key) {\n",
              "          const element = document.querySelector('#df-e64b54e6-36dd-47ac-9957-1ade918d0534');\n",
              "          const dataTable =\n",
              "            await google.colab.kernel.invokeFunction('convertToInteractive',\n",
              "                                                     [key], {});\n",
              "          if (!dataTable) return;\n",
              "\n",
              "          const docLinkHtml = 'Like what you see? Visit the ' +\n",
              "            '<a target=\"_blank\" href=https://colab.research.google.com/notebooks/data_table.ipynb>data table notebook</a>'\n",
              "            + ' to learn more about interactive tables.';\n",
              "          element.innerHTML = '';\n",
              "          dataTable['output_type'] = 'display_data';\n",
              "          await google.colab.output.renderOutput(dataTable, element);\n",
              "          const docLink = document.createElement('div');\n",
              "          docLink.innerHTML = docLinkHtml;\n",
              "          element.appendChild(docLink);\n",
              "        }\n",
              "      </script>\n",
              "    </div>\n",
              "  </div>\n",
              "  "
            ]
          },
          "metadata": {},
          "execution_count": 12
        }
      ]
    },
    {
      "cell_type": "code",
      "source": [
        "df_employeeData.info()"
      ],
      "metadata": {
        "colab": {
          "base_uri": "https://localhost:8080/"
        },
        "id": "tGYQ5EyXHYLm",
        "outputId": "4e2b4fb0-4208-42bd-f830-b884799faf95"
      },
      "execution_count": 13,
      "outputs": [
        {
          "output_type": "stream",
          "name": "stdout",
          "text": [
            "<class 'pandas.core.frame.DataFrame'>\n",
            "RangeIndex: 14150 entries, 0 to 14149\n",
            "Data columns (total 11 columns):\n",
            " #   Column             Non-Null Count  Dtype  \n",
            "---  ------             --------------  -----  \n",
            " 0   avg_monthly_hrs    14150 non-null  float64\n",
            " 1   department         13443 non-null  object \n",
            " 2   filed_complaint    2046 non-null   float64\n",
            " 3   last_evaluation    12663 non-null  float64\n",
            " 4   n_projects         14150 non-null  int64  \n",
            " 5   recently_promoted  297 non-null    float64\n",
            " 6   salary             14150 non-null  object \n",
            " 7   satisfaction       14000 non-null  float64\n",
            " 8   status             14150 non-null  object \n",
            " 9   tenure             14000 non-null  float64\n",
            " 10  employee_id        14150 non-null  int64  \n",
            "dtypes: float64(6), int64(2), object(3)\n",
            "memory usage: 1.2+ MB\n"
          ]
        }
      ]
    },
    {
      "cell_type": "code",
      "source": [
        "df_employeeData.shape"
      ],
      "metadata": {
        "colab": {
          "base_uri": "https://localhost:8080/"
        },
        "id": "6QyJ5eMxGWi9",
        "outputId": "e630c405-9c7a-41ec-d719-0709d39a3f10"
      },
      "execution_count": 14,
      "outputs": [
        {
          "output_type": "execute_result",
          "data": {
            "text/plain": [
              "(14150, 11)"
            ]
          },
          "metadata": {},
          "execution_count": 14
        }
      ]
    },
    {
      "cell_type": "markdown",
      "source": [
        "## __Lets examnine the data for any null values or invalid data if any__"
      ],
      "metadata": {
        "id": "_Bd5E90yOqGa"
      }
    },
    {
      "cell_type": "code",
      "source": [
        "# for department dataset\n",
        "\n",
        "df_departmentData.isnull().sum()"
      ],
      "metadata": {
        "colab": {
          "base_uri": "https://localhost:8080/"
        },
        "id": "xCbJALZvQlGu",
        "outputId": "24197f75-3de8-43c4-de17-d7c05060f2e4"
      },
      "execution_count": 15,
      "outputs": [
        {
          "output_type": "execute_result",
          "data": {
            "text/plain": [
              "dept_id      0\n",
              "dept_name    0\n",
              "dept_head    0\n",
              "dtype: int64"
            ]
          },
          "metadata": {},
          "execution_count": 15
        }
      ]
    },
    {
      "cell_type": "code",
      "source": [
        "# for employeesDetailsData dataset\n",
        "\n",
        "df_employeeDetailsData.isnull().sum()"
      ],
      "metadata": {
        "colab": {
          "base_uri": "https://localhost:8080/"
        },
        "id": "1rCH0iWCQtat",
        "outputId": "7c318037-b879-42b2-85be-680e47eb5c93"
      },
      "execution_count": 16,
      "outputs": [
        {
          "output_type": "execute_result",
          "data": {
            "text/plain": [
              "employee_id       0\n",
              "age               0\n",
              "gender            0\n",
              "marital_status    0\n",
              "dtype: int64"
            ]
          },
          "metadata": {},
          "execution_count": 16
        }
      ]
    },
    {
      "cell_type": "code",
      "source": [
        "# for employeeData dataset\n",
        "\n",
        "# from df_employeeData.describe() we can see that minimum employee Id is 0 that means there are such records with an invalid employee id.\n",
        "df_employeeData[df_employeeData['employee_id']<=0]"
      ],
      "metadata": {
        "colab": {
          "base_uri": "https://localhost:8080/",
          "height": 206
        },
        "id": "nAA2WE8TQ2G2",
        "outputId": "2517150e-79b7-4c2b-df4e-783f2a4fb883"
      },
      "execution_count": 17,
      "outputs": [
        {
          "output_type": "execute_result",
          "data": {
            "text/plain": [
              "       avg_monthly_hrs department  filed_complaint  last_evaluation  \\\n",
              "34               284.0     D00-SS              NaN         0.852702   \n",
              "304              264.0    D00-ENG              NaN         0.774554   \n",
              "1234             129.0     D00-SP              NaN         0.402660   \n",
              "11304            167.0       None              NaN         0.880053   \n",
              "12304            259.0    D00-ENG              NaN         0.505883   \n",
              "\n",
              "       n_projects  recently_promoted  salary  satisfaction    status  tenure  \\\n",
              "34              6                NaN     low      0.069168      Left     4.0   \n",
              "304             6                NaN     low      0.110974      Left     4.0   \n",
              "1234            2                NaN  medium      0.437359      Left     3.0   \n",
              "11304           5                NaN     low      0.682140  Employed     3.0   \n",
              "12304           5                NaN     low      0.631046  Employed     4.0   \n",
              "\n",
              "       employee_id  \n",
              "34               0  \n",
              "304              0  \n",
              "1234             0  \n",
              "11304            0  \n",
              "12304            0  "
            ],
            "text/html": [
              "\n",
              "  <div id=\"df-54619bb9-675e-4a29-b342-97f3949184e7\">\n",
              "    <div class=\"colab-df-container\">\n",
              "      <div>\n",
              "<style scoped>\n",
              "    .dataframe tbody tr th:only-of-type {\n",
              "        vertical-align: middle;\n",
              "    }\n",
              "\n",
              "    .dataframe tbody tr th {\n",
              "        vertical-align: top;\n",
              "    }\n",
              "\n",
              "    .dataframe thead th {\n",
              "        text-align: right;\n",
              "    }\n",
              "</style>\n",
              "<table border=\"1\" class=\"dataframe\">\n",
              "  <thead>\n",
              "    <tr style=\"text-align: right;\">\n",
              "      <th></th>\n",
              "      <th>avg_monthly_hrs</th>\n",
              "      <th>department</th>\n",
              "      <th>filed_complaint</th>\n",
              "      <th>last_evaluation</th>\n",
              "      <th>n_projects</th>\n",
              "      <th>recently_promoted</th>\n",
              "      <th>salary</th>\n",
              "      <th>satisfaction</th>\n",
              "      <th>status</th>\n",
              "      <th>tenure</th>\n",
              "      <th>employee_id</th>\n",
              "    </tr>\n",
              "  </thead>\n",
              "  <tbody>\n",
              "    <tr>\n",
              "      <th>34</th>\n",
              "      <td>284.0</td>\n",
              "      <td>D00-SS</td>\n",
              "      <td>NaN</td>\n",
              "      <td>0.852702</td>\n",
              "      <td>6</td>\n",
              "      <td>NaN</td>\n",
              "      <td>low</td>\n",
              "      <td>0.069168</td>\n",
              "      <td>Left</td>\n",
              "      <td>4.0</td>\n",
              "      <td>0</td>\n",
              "    </tr>\n",
              "    <tr>\n",
              "      <th>304</th>\n",
              "      <td>264.0</td>\n",
              "      <td>D00-ENG</td>\n",
              "      <td>NaN</td>\n",
              "      <td>0.774554</td>\n",
              "      <td>6</td>\n",
              "      <td>NaN</td>\n",
              "      <td>low</td>\n",
              "      <td>0.110974</td>\n",
              "      <td>Left</td>\n",
              "      <td>4.0</td>\n",
              "      <td>0</td>\n",
              "    </tr>\n",
              "    <tr>\n",
              "      <th>1234</th>\n",
              "      <td>129.0</td>\n",
              "      <td>D00-SP</td>\n",
              "      <td>NaN</td>\n",
              "      <td>0.402660</td>\n",
              "      <td>2</td>\n",
              "      <td>NaN</td>\n",
              "      <td>medium</td>\n",
              "      <td>0.437359</td>\n",
              "      <td>Left</td>\n",
              "      <td>3.0</td>\n",
              "      <td>0</td>\n",
              "    </tr>\n",
              "    <tr>\n",
              "      <th>11304</th>\n",
              "      <td>167.0</td>\n",
              "      <td>None</td>\n",
              "      <td>NaN</td>\n",
              "      <td>0.880053</td>\n",
              "      <td>5</td>\n",
              "      <td>NaN</td>\n",
              "      <td>low</td>\n",
              "      <td>0.682140</td>\n",
              "      <td>Employed</td>\n",
              "      <td>3.0</td>\n",
              "      <td>0</td>\n",
              "    </tr>\n",
              "    <tr>\n",
              "      <th>12304</th>\n",
              "      <td>259.0</td>\n",
              "      <td>D00-ENG</td>\n",
              "      <td>NaN</td>\n",
              "      <td>0.505883</td>\n",
              "      <td>5</td>\n",
              "      <td>NaN</td>\n",
              "      <td>low</td>\n",
              "      <td>0.631046</td>\n",
              "      <td>Employed</td>\n",
              "      <td>4.0</td>\n",
              "      <td>0</td>\n",
              "    </tr>\n",
              "  </tbody>\n",
              "</table>\n",
              "</div>\n",
              "      <button class=\"colab-df-convert\" onclick=\"convertToInteractive('df-54619bb9-675e-4a29-b342-97f3949184e7')\"\n",
              "              title=\"Convert this dataframe to an interactive table.\"\n",
              "              style=\"display:none;\">\n",
              "        \n",
              "  <svg xmlns=\"http://www.w3.org/2000/svg\" height=\"24px\"viewBox=\"0 0 24 24\"\n",
              "       width=\"24px\">\n",
              "    <path d=\"M0 0h24v24H0V0z\" fill=\"none\"/>\n",
              "    <path d=\"M18.56 5.44l.94 2.06.94-2.06 2.06-.94-2.06-.94-.94-2.06-.94 2.06-2.06.94zm-11 1L8.5 8.5l.94-2.06 2.06-.94-2.06-.94L8.5 2.5l-.94 2.06-2.06.94zm10 10l.94 2.06.94-2.06 2.06-.94-2.06-.94-.94-2.06-.94 2.06-2.06.94z\"/><path d=\"M17.41 7.96l-1.37-1.37c-.4-.4-.92-.59-1.43-.59-.52 0-1.04.2-1.43.59L10.3 9.45l-7.72 7.72c-.78.78-.78 2.05 0 2.83L4 21.41c.39.39.9.59 1.41.59.51 0 1.02-.2 1.41-.59l7.78-7.78 2.81-2.81c.8-.78.8-2.07 0-2.86zM5.41 20L4 18.59l7.72-7.72 1.47 1.35L5.41 20z\"/>\n",
              "  </svg>\n",
              "      </button>\n",
              "      \n",
              "  <style>\n",
              "    .colab-df-container {\n",
              "      display:flex;\n",
              "      flex-wrap:wrap;\n",
              "      gap: 12px;\n",
              "    }\n",
              "\n",
              "    .colab-df-convert {\n",
              "      background-color: #E8F0FE;\n",
              "      border: none;\n",
              "      border-radius: 50%;\n",
              "      cursor: pointer;\n",
              "      display: none;\n",
              "      fill: #1967D2;\n",
              "      height: 32px;\n",
              "      padding: 0 0 0 0;\n",
              "      width: 32px;\n",
              "    }\n",
              "\n",
              "    .colab-df-convert:hover {\n",
              "      background-color: #E2EBFA;\n",
              "      box-shadow: 0px 1px 2px rgba(60, 64, 67, 0.3), 0px 1px 3px 1px rgba(60, 64, 67, 0.15);\n",
              "      fill: #174EA6;\n",
              "    }\n",
              "\n",
              "    [theme=dark] .colab-df-convert {\n",
              "      background-color: #3B4455;\n",
              "      fill: #D2E3FC;\n",
              "    }\n",
              "\n",
              "    [theme=dark] .colab-df-convert:hover {\n",
              "      background-color: #434B5C;\n",
              "      box-shadow: 0px 1px 3px 1px rgba(0, 0, 0, 0.15);\n",
              "      filter: drop-shadow(0px 1px 2px rgba(0, 0, 0, 0.3));\n",
              "      fill: #FFFFFF;\n",
              "    }\n",
              "  </style>\n",
              "\n",
              "      <script>\n",
              "        const buttonEl =\n",
              "          document.querySelector('#df-54619bb9-675e-4a29-b342-97f3949184e7 button.colab-df-convert');\n",
              "        buttonEl.style.display =\n",
              "          google.colab.kernel.accessAllowed ? 'block' : 'none';\n",
              "\n",
              "        async function convertToInteractive(key) {\n",
              "          const element = document.querySelector('#df-54619bb9-675e-4a29-b342-97f3949184e7');\n",
              "          const dataTable =\n",
              "            await google.colab.kernel.invokeFunction('convertToInteractive',\n",
              "                                                     [key], {});\n",
              "          if (!dataTable) return;\n",
              "\n",
              "          const docLinkHtml = 'Like what you see? Visit the ' +\n",
              "            '<a target=\"_blank\" href=https://colab.research.google.com/notebooks/data_table.ipynb>data table notebook</a>'\n",
              "            + ' to learn more about interactive tables.';\n",
              "          element.innerHTML = '';\n",
              "          dataTable['output_type'] = 'display_data';\n",
              "          await google.colab.output.renderOutput(dataTable, element);\n",
              "          const docLink = document.createElement('div');\n",
              "          docLink.innerHTML = docLinkHtml;\n",
              "          element.appendChild(docLink);\n",
              "        }\n",
              "      </script>\n",
              "    </div>\n",
              "  </div>\n",
              "  "
            ]
          },
          "metadata": {},
          "execution_count": 17
        }
      ]
    },
    {
      "cell_type": "code",
      "source": [
        "# remove the records with employee Id=0, since there are only 5 records\n",
        "\n",
        "df_employeeData.drop(df_employeeData[df_employeeData['employee_id']<=0].index, inplace=True)\n",
        "df_employeeData.shape"
      ],
      "metadata": {
        "colab": {
          "base_uri": "https://localhost:8080/"
        },
        "id": "ODtqZ0R-OpCt",
        "outputId": "c86a43e1-521c-4168-dcfc-9718148ac094"
      },
      "execution_count": 18,
      "outputs": [
        {
          "output_type": "execute_result",
          "data": {
            "text/plain": [
              "(14145, 11)"
            ]
          },
          "metadata": {},
          "execution_count": 18
        }
      ]
    },
    {
      "cell_type": "code",
      "source": [
        "# check for null values in employeeData dataset\n",
        "\n",
        "df_employeeData.isnull().sum().sort_values(ascending=False)"
      ],
      "metadata": {
        "colab": {
          "base_uri": "https://localhost:8080/"
        },
        "id": "4C6bUhmESv9f",
        "outputId": "77e3a8c9-2527-4158-9a08-3fefaef1189a"
      },
      "execution_count": 19,
      "outputs": [
        {
          "output_type": "execute_result",
          "data": {
            "text/plain": [
              "recently_promoted    13848\n",
              "filed_complaint      12099\n",
              "last_evaluation       1487\n",
              "department             706\n",
              "satisfaction           150\n",
              "tenure                 150\n",
              "avg_monthly_hrs          0\n",
              "n_projects               0\n",
              "salary                   0\n",
              "status                   0\n",
              "employee_id              0\n",
              "dtype: int64"
            ]
          },
          "metadata": {},
          "execution_count": 19
        }
      ]
    },
    {
      "cell_type": "markdown",
      "source": [
        "__Here we can see that features like \"recently_promoted\" and \"filed_complaint\" are having a lot of missing values, so we'll drop both the columns__"
      ],
      "metadata": {
        "id": "-tsvE6eOTtBv"
      }
    },
    {
      "cell_type": "code",
      "source": [
        "df_employeeData.drop(['filed_complaint', 'recently_promoted'], axis=1, inplace = True)\n",
        "df_employeeData.isnull().sum().sort_values(ascending=False)"
      ],
      "metadata": {
        "colab": {
          "base_uri": "https://localhost:8080/"
        },
        "id": "G-CrhzTpTsUt",
        "outputId": "6bfaf7c8-35ca-4aad-835e-0f00b23ad882"
      },
      "execution_count": 20,
      "outputs": [
        {
          "output_type": "execute_result",
          "data": {
            "text/plain": [
              "last_evaluation    1487\n",
              "department          706\n",
              "satisfaction        150\n",
              "tenure              150\n",
              "avg_monthly_hrs       0\n",
              "n_projects            0\n",
              "salary                0\n",
              "status                0\n",
              "employee_id           0\n",
              "dtype: int64"
            ]
          },
          "metadata": {},
          "execution_count": 20
        }
      ]
    },
    {
      "cell_type": "code",
      "source": [
        "# we have an invalid value as \"-IT\" in department column\n",
        "\n",
        "df_employeeData['department'].unique()"
      ],
      "metadata": {
        "colab": {
          "base_uri": "https://localhost:8080/"
        },
        "id": "V4CGr0qgWn-v",
        "outputId": "0e2f6510-018b-483e-f997-413f49225fe0"
      },
      "execution_count": 21,
      "outputs": [
        {
          "output_type": "execute_result",
          "data": {
            "text/plain": [
              "array([None, 'D00-SS', 'D00-SP', 'D00-MT', 'D00-PD', 'D00-IT', 'D00-AD',\n",
              "       'D00-MN', 'D00-ENG', 'D00-PR', 'D00-TP', 'D00-FN', '-IT'],\n",
              "      dtype=object)"
            ]
          },
          "metadata": {},
          "execution_count": 21
        }
      ]
    },
    {
      "cell_type": "code",
      "source": [
        "# replace the incorrect Data \"-IT\" with \"D00-IT\". This is very important to avoid invalid elements during the merge.\n",
        "\n",
        "df_employeeData['department'].replace({'-IT': 'D00-IT'}, inplace=True)\n",
        "df_employeeData['department'].unique()"
      ],
      "metadata": {
        "colab": {
          "base_uri": "https://localhost:8080/"
        },
        "id": "1FzrnXdgXF_T",
        "outputId": "53f9238d-ef93-42e4-c759-fde2573b675f"
      },
      "execution_count": 22,
      "outputs": [
        {
          "output_type": "execute_result",
          "data": {
            "text/plain": [
              "array([None, 'D00-SS', 'D00-SP', 'D00-MT', 'D00-PD', 'D00-IT', 'D00-AD',\n",
              "       'D00-MN', 'D00-ENG', 'D00-PR', 'D00-TP', 'D00-FN'], dtype=object)"
            ]
          },
          "metadata": {},
          "execution_count": 22
        }
      ]
    },
    {
      "cell_type": "code",
      "source": [
        "df_employeeData.isnull().sum().sort_values(ascending=False)"
      ],
      "metadata": {
        "colab": {
          "base_uri": "https://localhost:8080/"
        },
        "id": "iMvVh5S5Xfiq",
        "outputId": "38408424-2ce3-4afd-e5fb-1df32e1e318f"
      },
      "execution_count": 23,
      "outputs": [
        {
          "output_type": "execute_result",
          "data": {
            "text/plain": [
              "last_evaluation    1487\n",
              "department          706\n",
              "satisfaction        150\n",
              "tenure              150\n",
              "avg_monthly_hrs       0\n",
              "n_projects            0\n",
              "salary                0\n",
              "status                0\n",
              "employee_id           0\n",
              "dtype: int64"
            ]
          },
          "metadata": {},
          "execution_count": 23
        }
      ]
    },
    {
      "cell_type": "markdown",
      "source": [
        "### __Now we'll merge the data of all three datasets into one final dataset__"
      ],
      "metadata": {
        "id": "JmlFKpnxPj7s"
      }
    },
    {
      "cell_type": "code",
      "source": [
        "df_employeeDetails = pd.merge(df_employeeDetailsData, df_employeeData, on='employee_id', how='inner')\n",
        "df_employeeDetails.head()"
      ],
      "metadata": {
        "id": "oNSELdL_A-dm",
        "colab": {
          "base_uri": "https://localhost:8080/",
          "height": 206
        },
        "outputId": "645328db-888b-4ef5-f1df-6e0814243c2a"
      },
      "execution_count": 24,
      "outputs": [
        {
          "output_type": "execute_result",
          "data": {
            "text/plain": [
              "   employee_id  age  gender marital_status  avg_monthly_hrs department  \\\n",
              "0       113558   43    Male        Married            111.0     D00-PR   \n",
              "1       112256   24  Female      Unmarried            201.0     D00-MN   \n",
              "2       112586   22  Female      Unmarried            239.0     D00-SS   \n",
              "3       108071   36    Male        Married            151.0     D00-PR   \n",
              "4       116915   38    Male        Married            259.0     D00-IT   \n",
              "\n",
              "   last_evaluation  n_projects  salary  satisfaction    status  tenure  \n",
              "0         0.753977           5  medium      0.921208  Employed     4.0  \n",
              "1         0.964453           3  medium      0.568479  Employed     3.0  \n",
              "2         0.756458           3     low      0.144812  Employed     6.0  \n",
              "3         0.608282           5  medium      0.210300  Employed     6.0  \n",
              "4         0.749206           4  medium      0.888514  Employed     3.0  "
            ],
            "text/html": [
              "\n",
              "  <div id=\"df-b80a5948-eadd-4ae8-a523-70609018bac9\">\n",
              "    <div class=\"colab-df-container\">\n",
              "      <div>\n",
              "<style scoped>\n",
              "    .dataframe tbody tr th:only-of-type {\n",
              "        vertical-align: middle;\n",
              "    }\n",
              "\n",
              "    .dataframe tbody tr th {\n",
              "        vertical-align: top;\n",
              "    }\n",
              "\n",
              "    .dataframe thead th {\n",
              "        text-align: right;\n",
              "    }\n",
              "</style>\n",
              "<table border=\"1\" class=\"dataframe\">\n",
              "  <thead>\n",
              "    <tr style=\"text-align: right;\">\n",
              "      <th></th>\n",
              "      <th>employee_id</th>\n",
              "      <th>age</th>\n",
              "      <th>gender</th>\n",
              "      <th>marital_status</th>\n",
              "      <th>avg_monthly_hrs</th>\n",
              "      <th>department</th>\n",
              "      <th>last_evaluation</th>\n",
              "      <th>n_projects</th>\n",
              "      <th>salary</th>\n",
              "      <th>satisfaction</th>\n",
              "      <th>status</th>\n",
              "      <th>tenure</th>\n",
              "    </tr>\n",
              "  </thead>\n",
              "  <tbody>\n",
              "    <tr>\n",
              "      <th>0</th>\n",
              "      <td>113558</td>\n",
              "      <td>43</td>\n",
              "      <td>Male</td>\n",
              "      <td>Married</td>\n",
              "      <td>111.0</td>\n",
              "      <td>D00-PR</td>\n",
              "      <td>0.753977</td>\n",
              "      <td>5</td>\n",
              "      <td>medium</td>\n",
              "      <td>0.921208</td>\n",
              "      <td>Employed</td>\n",
              "      <td>4.0</td>\n",
              "    </tr>\n",
              "    <tr>\n",
              "      <th>1</th>\n",
              "      <td>112256</td>\n",
              "      <td>24</td>\n",
              "      <td>Female</td>\n",
              "      <td>Unmarried</td>\n",
              "      <td>201.0</td>\n",
              "      <td>D00-MN</td>\n",
              "      <td>0.964453</td>\n",
              "      <td>3</td>\n",
              "      <td>medium</td>\n",
              "      <td>0.568479</td>\n",
              "      <td>Employed</td>\n",
              "      <td>3.0</td>\n",
              "    </tr>\n",
              "    <tr>\n",
              "      <th>2</th>\n",
              "      <td>112586</td>\n",
              "      <td>22</td>\n",
              "      <td>Female</td>\n",
              "      <td>Unmarried</td>\n",
              "      <td>239.0</td>\n",
              "      <td>D00-SS</td>\n",
              "      <td>0.756458</td>\n",
              "      <td>3</td>\n",
              "      <td>low</td>\n",
              "      <td>0.144812</td>\n",
              "      <td>Employed</td>\n",
              "      <td>6.0</td>\n",
              "    </tr>\n",
              "    <tr>\n",
              "      <th>3</th>\n",
              "      <td>108071</td>\n",
              "      <td>36</td>\n",
              "      <td>Male</td>\n",
              "      <td>Married</td>\n",
              "      <td>151.0</td>\n",
              "      <td>D00-PR</td>\n",
              "      <td>0.608282</td>\n",
              "      <td>5</td>\n",
              "      <td>medium</td>\n",
              "      <td>0.210300</td>\n",
              "      <td>Employed</td>\n",
              "      <td>6.0</td>\n",
              "    </tr>\n",
              "    <tr>\n",
              "      <th>4</th>\n",
              "      <td>116915</td>\n",
              "      <td>38</td>\n",
              "      <td>Male</td>\n",
              "      <td>Married</td>\n",
              "      <td>259.0</td>\n",
              "      <td>D00-IT</td>\n",
              "      <td>0.749206</td>\n",
              "      <td>4</td>\n",
              "      <td>medium</td>\n",
              "      <td>0.888514</td>\n",
              "      <td>Employed</td>\n",
              "      <td>3.0</td>\n",
              "    </tr>\n",
              "  </tbody>\n",
              "</table>\n",
              "</div>\n",
              "      <button class=\"colab-df-convert\" onclick=\"convertToInteractive('df-b80a5948-eadd-4ae8-a523-70609018bac9')\"\n",
              "              title=\"Convert this dataframe to an interactive table.\"\n",
              "              style=\"display:none;\">\n",
              "        \n",
              "  <svg xmlns=\"http://www.w3.org/2000/svg\" height=\"24px\"viewBox=\"0 0 24 24\"\n",
              "       width=\"24px\">\n",
              "    <path d=\"M0 0h24v24H0V0z\" fill=\"none\"/>\n",
              "    <path d=\"M18.56 5.44l.94 2.06.94-2.06 2.06-.94-2.06-.94-.94-2.06-.94 2.06-2.06.94zm-11 1L8.5 8.5l.94-2.06 2.06-.94-2.06-.94L8.5 2.5l-.94 2.06-2.06.94zm10 10l.94 2.06.94-2.06 2.06-.94-2.06-.94-.94-2.06-.94 2.06-2.06.94z\"/><path d=\"M17.41 7.96l-1.37-1.37c-.4-.4-.92-.59-1.43-.59-.52 0-1.04.2-1.43.59L10.3 9.45l-7.72 7.72c-.78.78-.78 2.05 0 2.83L4 21.41c.39.39.9.59 1.41.59.51 0 1.02-.2 1.41-.59l7.78-7.78 2.81-2.81c.8-.78.8-2.07 0-2.86zM5.41 20L4 18.59l7.72-7.72 1.47 1.35L5.41 20z\"/>\n",
              "  </svg>\n",
              "      </button>\n",
              "      \n",
              "  <style>\n",
              "    .colab-df-container {\n",
              "      display:flex;\n",
              "      flex-wrap:wrap;\n",
              "      gap: 12px;\n",
              "    }\n",
              "\n",
              "    .colab-df-convert {\n",
              "      background-color: #E8F0FE;\n",
              "      border: none;\n",
              "      border-radius: 50%;\n",
              "      cursor: pointer;\n",
              "      display: none;\n",
              "      fill: #1967D2;\n",
              "      height: 32px;\n",
              "      padding: 0 0 0 0;\n",
              "      width: 32px;\n",
              "    }\n",
              "\n",
              "    .colab-df-convert:hover {\n",
              "      background-color: #E2EBFA;\n",
              "      box-shadow: 0px 1px 2px rgba(60, 64, 67, 0.3), 0px 1px 3px 1px rgba(60, 64, 67, 0.15);\n",
              "      fill: #174EA6;\n",
              "    }\n",
              "\n",
              "    [theme=dark] .colab-df-convert {\n",
              "      background-color: #3B4455;\n",
              "      fill: #D2E3FC;\n",
              "    }\n",
              "\n",
              "    [theme=dark] .colab-df-convert:hover {\n",
              "      background-color: #434B5C;\n",
              "      box-shadow: 0px 1px 3px 1px rgba(0, 0, 0, 0.15);\n",
              "      filter: drop-shadow(0px 1px 2px rgba(0, 0, 0, 0.3));\n",
              "      fill: #FFFFFF;\n",
              "    }\n",
              "  </style>\n",
              "\n",
              "      <script>\n",
              "        const buttonEl =\n",
              "          document.querySelector('#df-b80a5948-eadd-4ae8-a523-70609018bac9 button.colab-df-convert');\n",
              "        buttonEl.style.display =\n",
              "          google.colab.kernel.accessAllowed ? 'block' : 'none';\n",
              "\n",
              "        async function convertToInteractive(key) {\n",
              "          const element = document.querySelector('#df-b80a5948-eadd-4ae8-a523-70609018bac9');\n",
              "          const dataTable =\n",
              "            await google.colab.kernel.invokeFunction('convertToInteractive',\n",
              "                                                     [key], {});\n",
              "          if (!dataTable) return;\n",
              "\n",
              "          const docLinkHtml = 'Like what you see? Visit the ' +\n",
              "            '<a target=\"_blank\" href=https://colab.research.google.com/notebooks/data_table.ipynb>data table notebook</a>'\n",
              "            + ' to learn more about interactive tables.';\n",
              "          element.innerHTML = '';\n",
              "          dataTable['output_type'] = 'display_data';\n",
              "          await google.colab.output.renderOutput(dataTable, element);\n",
              "          const docLink = document.createElement('div');\n",
              "          docLink.innerHTML = docLinkHtml;\n",
              "          element.appendChild(docLink);\n",
              "        }\n",
              "      </script>\n",
              "    </div>\n",
              "  </div>\n",
              "  "
            ]
          },
          "metadata": {},
          "execution_count": 24
        }
      ]
    },
    {
      "cell_type": "code",
      "source": [
        "df_final = pd.merge(df_employeeDetails, df_departmentData, left_on='department', right_on='dept_id', how='inner')\n",
        "df_final.head()"
      ],
      "metadata": {
        "id": "5IE8xH4wMJ3c",
        "colab": {
          "base_uri": "https://localhost:8080/",
          "height": 270
        },
        "outputId": "644f05a9-1d40-4093-fd75-03de7a218961"
      },
      "execution_count": 25,
      "outputs": [
        {
          "output_type": "execute_result",
          "data": {
            "text/plain": [
              "   employee_id  age gender marital_status  avg_monthly_hrs department  \\\n",
              "0       113558   43   Male        Married            111.0     D00-PR   \n",
              "1       108071   36   Male        Married            151.0     D00-PR   \n",
              "2       110888   42   Male        Married            152.0     D00-PR   \n",
              "3       115694   26   Male      Unmarried            167.0     D00-PR   \n",
              "4       107767   43   Male        Married            174.0     D00-PR   \n",
              "\n",
              "   last_evaluation  n_projects  salary  satisfaction    status  tenure  \\\n",
              "0         0.753977           5  medium      0.921208  Employed     4.0   \n",
              "1         0.608282           5  medium      0.210300  Employed     6.0   \n",
              "2         0.673508           6  medium      0.720369  Employed     3.0   \n",
              "3         0.874656           3  medium      0.575996  Employed     4.0   \n",
              "4         0.634783           5  medium      0.208138  Employed     5.0   \n",
              "\n",
              "  dept_id    dept_name    dept_head  \n",
              "0  D00-PR  Procurement  Louie Viles  \n",
              "1  D00-PR  Procurement  Louie Viles  \n",
              "2  D00-PR  Procurement  Louie Viles  \n",
              "3  D00-PR  Procurement  Louie Viles  \n",
              "4  D00-PR  Procurement  Louie Viles  "
            ],
            "text/html": [
              "\n",
              "  <div id=\"df-ef836544-8b16-4bca-9c6e-9ac3b651d575\">\n",
              "    <div class=\"colab-df-container\">\n",
              "      <div>\n",
              "<style scoped>\n",
              "    .dataframe tbody tr th:only-of-type {\n",
              "        vertical-align: middle;\n",
              "    }\n",
              "\n",
              "    .dataframe tbody tr th {\n",
              "        vertical-align: top;\n",
              "    }\n",
              "\n",
              "    .dataframe thead th {\n",
              "        text-align: right;\n",
              "    }\n",
              "</style>\n",
              "<table border=\"1\" class=\"dataframe\">\n",
              "  <thead>\n",
              "    <tr style=\"text-align: right;\">\n",
              "      <th></th>\n",
              "      <th>employee_id</th>\n",
              "      <th>age</th>\n",
              "      <th>gender</th>\n",
              "      <th>marital_status</th>\n",
              "      <th>avg_monthly_hrs</th>\n",
              "      <th>department</th>\n",
              "      <th>last_evaluation</th>\n",
              "      <th>n_projects</th>\n",
              "      <th>salary</th>\n",
              "      <th>satisfaction</th>\n",
              "      <th>status</th>\n",
              "      <th>tenure</th>\n",
              "      <th>dept_id</th>\n",
              "      <th>dept_name</th>\n",
              "      <th>dept_head</th>\n",
              "    </tr>\n",
              "  </thead>\n",
              "  <tbody>\n",
              "    <tr>\n",
              "      <th>0</th>\n",
              "      <td>113558</td>\n",
              "      <td>43</td>\n",
              "      <td>Male</td>\n",
              "      <td>Married</td>\n",
              "      <td>111.0</td>\n",
              "      <td>D00-PR</td>\n",
              "      <td>0.753977</td>\n",
              "      <td>5</td>\n",
              "      <td>medium</td>\n",
              "      <td>0.921208</td>\n",
              "      <td>Employed</td>\n",
              "      <td>4.0</td>\n",
              "      <td>D00-PR</td>\n",
              "      <td>Procurement</td>\n",
              "      <td>Louie Viles</td>\n",
              "    </tr>\n",
              "    <tr>\n",
              "      <th>1</th>\n",
              "      <td>108071</td>\n",
              "      <td>36</td>\n",
              "      <td>Male</td>\n",
              "      <td>Married</td>\n",
              "      <td>151.0</td>\n",
              "      <td>D00-PR</td>\n",
              "      <td>0.608282</td>\n",
              "      <td>5</td>\n",
              "      <td>medium</td>\n",
              "      <td>0.210300</td>\n",
              "      <td>Employed</td>\n",
              "      <td>6.0</td>\n",
              "      <td>D00-PR</td>\n",
              "      <td>Procurement</td>\n",
              "      <td>Louie Viles</td>\n",
              "    </tr>\n",
              "    <tr>\n",
              "      <th>2</th>\n",
              "      <td>110888</td>\n",
              "      <td>42</td>\n",
              "      <td>Male</td>\n",
              "      <td>Married</td>\n",
              "      <td>152.0</td>\n",
              "      <td>D00-PR</td>\n",
              "      <td>0.673508</td>\n",
              "      <td>6</td>\n",
              "      <td>medium</td>\n",
              "      <td>0.720369</td>\n",
              "      <td>Employed</td>\n",
              "      <td>3.0</td>\n",
              "      <td>D00-PR</td>\n",
              "      <td>Procurement</td>\n",
              "      <td>Louie Viles</td>\n",
              "    </tr>\n",
              "    <tr>\n",
              "      <th>3</th>\n",
              "      <td>115694</td>\n",
              "      <td>26</td>\n",
              "      <td>Male</td>\n",
              "      <td>Unmarried</td>\n",
              "      <td>167.0</td>\n",
              "      <td>D00-PR</td>\n",
              "      <td>0.874656</td>\n",
              "      <td>3</td>\n",
              "      <td>medium</td>\n",
              "      <td>0.575996</td>\n",
              "      <td>Employed</td>\n",
              "      <td>4.0</td>\n",
              "      <td>D00-PR</td>\n",
              "      <td>Procurement</td>\n",
              "      <td>Louie Viles</td>\n",
              "    </tr>\n",
              "    <tr>\n",
              "      <th>4</th>\n",
              "      <td>107767</td>\n",
              "      <td>43</td>\n",
              "      <td>Male</td>\n",
              "      <td>Married</td>\n",
              "      <td>174.0</td>\n",
              "      <td>D00-PR</td>\n",
              "      <td>0.634783</td>\n",
              "      <td>5</td>\n",
              "      <td>medium</td>\n",
              "      <td>0.208138</td>\n",
              "      <td>Employed</td>\n",
              "      <td>5.0</td>\n",
              "      <td>D00-PR</td>\n",
              "      <td>Procurement</td>\n",
              "      <td>Louie Viles</td>\n",
              "    </tr>\n",
              "  </tbody>\n",
              "</table>\n",
              "</div>\n",
              "      <button class=\"colab-df-convert\" onclick=\"convertToInteractive('df-ef836544-8b16-4bca-9c6e-9ac3b651d575')\"\n",
              "              title=\"Convert this dataframe to an interactive table.\"\n",
              "              style=\"display:none;\">\n",
              "        \n",
              "  <svg xmlns=\"http://www.w3.org/2000/svg\" height=\"24px\"viewBox=\"0 0 24 24\"\n",
              "       width=\"24px\">\n",
              "    <path d=\"M0 0h24v24H0V0z\" fill=\"none\"/>\n",
              "    <path d=\"M18.56 5.44l.94 2.06.94-2.06 2.06-.94-2.06-.94-.94-2.06-.94 2.06-2.06.94zm-11 1L8.5 8.5l.94-2.06 2.06-.94-2.06-.94L8.5 2.5l-.94 2.06-2.06.94zm10 10l.94 2.06.94-2.06 2.06-.94-2.06-.94-.94-2.06-.94 2.06-2.06.94z\"/><path d=\"M17.41 7.96l-1.37-1.37c-.4-.4-.92-.59-1.43-.59-.52 0-1.04.2-1.43.59L10.3 9.45l-7.72 7.72c-.78.78-.78 2.05 0 2.83L4 21.41c.39.39.9.59 1.41.59.51 0 1.02-.2 1.41-.59l7.78-7.78 2.81-2.81c.8-.78.8-2.07 0-2.86zM5.41 20L4 18.59l7.72-7.72 1.47 1.35L5.41 20z\"/>\n",
              "  </svg>\n",
              "      </button>\n",
              "      \n",
              "  <style>\n",
              "    .colab-df-container {\n",
              "      display:flex;\n",
              "      flex-wrap:wrap;\n",
              "      gap: 12px;\n",
              "    }\n",
              "\n",
              "    .colab-df-convert {\n",
              "      background-color: #E8F0FE;\n",
              "      border: none;\n",
              "      border-radius: 50%;\n",
              "      cursor: pointer;\n",
              "      display: none;\n",
              "      fill: #1967D2;\n",
              "      height: 32px;\n",
              "      padding: 0 0 0 0;\n",
              "      width: 32px;\n",
              "    }\n",
              "\n",
              "    .colab-df-convert:hover {\n",
              "      background-color: #E2EBFA;\n",
              "      box-shadow: 0px 1px 2px rgba(60, 64, 67, 0.3), 0px 1px 3px 1px rgba(60, 64, 67, 0.15);\n",
              "      fill: #174EA6;\n",
              "    }\n",
              "\n",
              "    [theme=dark] .colab-df-convert {\n",
              "      background-color: #3B4455;\n",
              "      fill: #D2E3FC;\n",
              "    }\n",
              "\n",
              "    [theme=dark] .colab-df-convert:hover {\n",
              "      background-color: #434B5C;\n",
              "      box-shadow: 0px 1px 3px 1px rgba(0, 0, 0, 0.15);\n",
              "      filter: drop-shadow(0px 1px 2px rgba(0, 0, 0, 0.3));\n",
              "      fill: #FFFFFF;\n",
              "    }\n",
              "  </style>\n",
              "\n",
              "      <script>\n",
              "        const buttonEl =\n",
              "          document.querySelector('#df-ef836544-8b16-4bca-9c6e-9ac3b651d575 button.colab-df-convert');\n",
              "        buttonEl.style.display =\n",
              "          google.colab.kernel.accessAllowed ? 'block' : 'none';\n",
              "\n",
              "        async function convertToInteractive(key) {\n",
              "          const element = document.querySelector('#df-ef836544-8b16-4bca-9c6e-9ac3b651d575');\n",
              "          const dataTable =\n",
              "            await google.colab.kernel.invokeFunction('convertToInteractive',\n",
              "                                                     [key], {});\n",
              "          if (!dataTable) return;\n",
              "\n",
              "          const docLinkHtml = 'Like what you see? Visit the ' +\n",
              "            '<a target=\"_blank\" href=https://colab.research.google.com/notebooks/data_table.ipynb>data table notebook</a>'\n",
              "            + ' to learn more about interactive tables.';\n",
              "          element.innerHTML = '';\n",
              "          dataTable['output_type'] = 'display_data';\n",
              "          await google.colab.output.renderOutput(dataTable, element);\n",
              "          const docLink = document.createElement('div');\n",
              "          docLink.innerHTML = docLinkHtml;\n",
              "          element.appendChild(docLink);\n",
              "        }\n",
              "      </script>\n",
              "    </div>\n",
              "  </div>\n",
              "  "
            ]
          },
          "metadata": {},
          "execution_count": 25
        }
      ]
    },
    {
      "cell_type": "code",
      "source": [
        "df_final.shape"
      ],
      "metadata": {
        "colab": {
          "base_uri": "https://localhost:8080/"
        },
        "id": "uD-b169eBlvl",
        "outputId": "f12e02bd-899a-4afc-b5f3-f042f3c6ee6a"
      },
      "execution_count": 26,
      "outputs": [
        {
          "output_type": "execute_result",
          "data": {
            "text/plain": [
              "(13439, 15)"
            ]
          },
          "metadata": {},
          "execution_count": 26
        }
      ]
    },
    {
      "cell_type": "code",
      "source": [
        "df_final.describe()"
      ],
      "metadata": {
        "colab": {
          "base_uri": "https://localhost:8080/",
          "height": 300
        },
        "id": "CRuyeLYZBNhC",
        "outputId": "e70d8b50-fda0-4173-d09f-d52f0c4543ae"
      },
      "execution_count": 27,
      "outputs": [
        {
          "output_type": "execute_result",
          "data": {
            "text/plain": [
              "         employee_id           age  avg_monthly_hrs  last_evaluation  \\\n",
              "count   13439.000000  13439.000000     13439.000000     12018.000000   \n",
              "mean   112115.324801     32.934593       200.039140         0.718452   \n",
              "std      8489.198037      9.980176        50.844631         0.173011   \n",
              "min    100101.000000     22.000000        49.000000         0.316175   \n",
              "25%    105787.500000     24.000000       155.000000         0.564244   \n",
              "50%    111299.000000     29.000000       199.000000         0.723793   \n",
              "75%    116649.000000     41.000000       245.000000         0.871643   \n",
              "max    148988.000000     57.000000       310.000000         1.000000   \n",
              "\n",
              "         n_projects  satisfaction        tenure  \n",
              "count  13439.000000  13289.000000  13289.000000  \n",
              "mean       3.783466      0.622181      3.506208  \n",
              "std        1.250447      0.250428      1.475868  \n",
              "min        1.000000      0.040058      2.000000  \n",
              "25%        3.000000      0.451732      3.000000  \n",
              "50%        4.000000      0.653898      3.000000  \n",
              "75%        5.000000      0.825661      4.000000  \n",
              "max        7.000000      1.000000     10.000000  "
            ],
            "text/html": [
              "\n",
              "  <div id=\"df-a33bb695-0da5-475b-bab1-80bf882bb40c\">\n",
              "    <div class=\"colab-df-container\">\n",
              "      <div>\n",
              "<style scoped>\n",
              "    .dataframe tbody tr th:only-of-type {\n",
              "        vertical-align: middle;\n",
              "    }\n",
              "\n",
              "    .dataframe tbody tr th {\n",
              "        vertical-align: top;\n",
              "    }\n",
              "\n",
              "    .dataframe thead th {\n",
              "        text-align: right;\n",
              "    }\n",
              "</style>\n",
              "<table border=\"1\" class=\"dataframe\">\n",
              "  <thead>\n",
              "    <tr style=\"text-align: right;\">\n",
              "      <th></th>\n",
              "      <th>employee_id</th>\n",
              "      <th>age</th>\n",
              "      <th>avg_monthly_hrs</th>\n",
              "      <th>last_evaluation</th>\n",
              "      <th>n_projects</th>\n",
              "      <th>satisfaction</th>\n",
              "      <th>tenure</th>\n",
              "    </tr>\n",
              "  </thead>\n",
              "  <tbody>\n",
              "    <tr>\n",
              "      <th>count</th>\n",
              "      <td>13439.000000</td>\n",
              "      <td>13439.000000</td>\n",
              "      <td>13439.000000</td>\n",
              "      <td>12018.000000</td>\n",
              "      <td>13439.000000</td>\n",
              "      <td>13289.000000</td>\n",
              "      <td>13289.000000</td>\n",
              "    </tr>\n",
              "    <tr>\n",
              "      <th>mean</th>\n",
              "      <td>112115.324801</td>\n",
              "      <td>32.934593</td>\n",
              "      <td>200.039140</td>\n",
              "      <td>0.718452</td>\n",
              "      <td>3.783466</td>\n",
              "      <td>0.622181</td>\n",
              "      <td>3.506208</td>\n",
              "    </tr>\n",
              "    <tr>\n",
              "      <th>std</th>\n",
              "      <td>8489.198037</td>\n",
              "      <td>9.980176</td>\n",
              "      <td>50.844631</td>\n",
              "      <td>0.173011</td>\n",
              "      <td>1.250447</td>\n",
              "      <td>0.250428</td>\n",
              "      <td>1.475868</td>\n",
              "    </tr>\n",
              "    <tr>\n",
              "      <th>min</th>\n",
              "      <td>100101.000000</td>\n",
              "      <td>22.000000</td>\n",
              "      <td>49.000000</td>\n",
              "      <td>0.316175</td>\n",
              "      <td>1.000000</td>\n",
              "      <td>0.040058</td>\n",
              "      <td>2.000000</td>\n",
              "    </tr>\n",
              "    <tr>\n",
              "      <th>25%</th>\n",
              "      <td>105787.500000</td>\n",
              "      <td>24.000000</td>\n",
              "      <td>155.000000</td>\n",
              "      <td>0.564244</td>\n",
              "      <td>3.000000</td>\n",
              "      <td>0.451732</td>\n",
              "      <td>3.000000</td>\n",
              "    </tr>\n",
              "    <tr>\n",
              "      <th>50%</th>\n",
              "      <td>111299.000000</td>\n",
              "      <td>29.000000</td>\n",
              "      <td>199.000000</td>\n",
              "      <td>0.723793</td>\n",
              "      <td>4.000000</td>\n",
              "      <td>0.653898</td>\n",
              "      <td>3.000000</td>\n",
              "    </tr>\n",
              "    <tr>\n",
              "      <th>75%</th>\n",
              "      <td>116649.000000</td>\n",
              "      <td>41.000000</td>\n",
              "      <td>245.000000</td>\n",
              "      <td>0.871643</td>\n",
              "      <td>5.000000</td>\n",
              "      <td>0.825661</td>\n",
              "      <td>4.000000</td>\n",
              "    </tr>\n",
              "    <tr>\n",
              "      <th>max</th>\n",
              "      <td>148988.000000</td>\n",
              "      <td>57.000000</td>\n",
              "      <td>310.000000</td>\n",
              "      <td>1.000000</td>\n",
              "      <td>7.000000</td>\n",
              "      <td>1.000000</td>\n",
              "      <td>10.000000</td>\n",
              "    </tr>\n",
              "  </tbody>\n",
              "</table>\n",
              "</div>\n",
              "      <button class=\"colab-df-convert\" onclick=\"convertToInteractive('df-a33bb695-0da5-475b-bab1-80bf882bb40c')\"\n",
              "              title=\"Convert this dataframe to an interactive table.\"\n",
              "              style=\"display:none;\">\n",
              "        \n",
              "  <svg xmlns=\"http://www.w3.org/2000/svg\" height=\"24px\"viewBox=\"0 0 24 24\"\n",
              "       width=\"24px\">\n",
              "    <path d=\"M0 0h24v24H0V0z\" fill=\"none\"/>\n",
              "    <path d=\"M18.56 5.44l.94 2.06.94-2.06 2.06-.94-2.06-.94-.94-2.06-.94 2.06-2.06.94zm-11 1L8.5 8.5l.94-2.06 2.06-.94-2.06-.94L8.5 2.5l-.94 2.06-2.06.94zm10 10l.94 2.06.94-2.06 2.06-.94-2.06-.94-.94-2.06-.94 2.06-2.06.94z\"/><path d=\"M17.41 7.96l-1.37-1.37c-.4-.4-.92-.59-1.43-.59-.52 0-1.04.2-1.43.59L10.3 9.45l-7.72 7.72c-.78.78-.78 2.05 0 2.83L4 21.41c.39.39.9.59 1.41.59.51 0 1.02-.2 1.41-.59l7.78-7.78 2.81-2.81c.8-.78.8-2.07 0-2.86zM5.41 20L4 18.59l7.72-7.72 1.47 1.35L5.41 20z\"/>\n",
              "  </svg>\n",
              "      </button>\n",
              "      \n",
              "  <style>\n",
              "    .colab-df-container {\n",
              "      display:flex;\n",
              "      flex-wrap:wrap;\n",
              "      gap: 12px;\n",
              "    }\n",
              "\n",
              "    .colab-df-convert {\n",
              "      background-color: #E8F0FE;\n",
              "      border: none;\n",
              "      border-radius: 50%;\n",
              "      cursor: pointer;\n",
              "      display: none;\n",
              "      fill: #1967D2;\n",
              "      height: 32px;\n",
              "      padding: 0 0 0 0;\n",
              "      width: 32px;\n",
              "    }\n",
              "\n",
              "    .colab-df-convert:hover {\n",
              "      background-color: #E2EBFA;\n",
              "      box-shadow: 0px 1px 2px rgba(60, 64, 67, 0.3), 0px 1px 3px 1px rgba(60, 64, 67, 0.15);\n",
              "      fill: #174EA6;\n",
              "    }\n",
              "\n",
              "    [theme=dark] .colab-df-convert {\n",
              "      background-color: #3B4455;\n",
              "      fill: #D2E3FC;\n",
              "    }\n",
              "\n",
              "    [theme=dark] .colab-df-convert:hover {\n",
              "      background-color: #434B5C;\n",
              "      box-shadow: 0px 1px 3px 1px rgba(0, 0, 0, 0.15);\n",
              "      filter: drop-shadow(0px 1px 2px rgba(0, 0, 0, 0.3));\n",
              "      fill: #FFFFFF;\n",
              "    }\n",
              "  </style>\n",
              "\n",
              "      <script>\n",
              "        const buttonEl =\n",
              "          document.querySelector('#df-a33bb695-0da5-475b-bab1-80bf882bb40c button.colab-df-convert');\n",
              "        buttonEl.style.display =\n",
              "          google.colab.kernel.accessAllowed ? 'block' : 'none';\n",
              "\n",
              "        async function convertToInteractive(key) {\n",
              "          const element = document.querySelector('#df-a33bb695-0da5-475b-bab1-80bf882bb40c');\n",
              "          const dataTable =\n",
              "            await google.colab.kernel.invokeFunction('convertToInteractive',\n",
              "                                                     [key], {});\n",
              "          if (!dataTable) return;\n",
              "\n",
              "          const docLinkHtml = 'Like what you see? Visit the ' +\n",
              "            '<a target=\"_blank\" href=https://colab.research.google.com/notebooks/data_table.ipynb>data table notebook</a>'\n",
              "            + ' to learn more about interactive tables.';\n",
              "          element.innerHTML = '';\n",
              "          dataTable['output_type'] = 'display_data';\n",
              "          await google.colab.output.renderOutput(dataTable, element);\n",
              "          const docLink = document.createElement('div');\n",
              "          docLink.innerHTML = docLinkHtml;\n",
              "          element.appendChild(docLink);\n",
              "        }\n",
              "      </script>\n",
              "    </div>\n",
              "  </div>\n",
              "  "
            ]
          },
          "metadata": {},
          "execution_count": 27
        }
      ]
    },
    {
      "cell_type": "code",
      "source": [
        "df_final.info()"
      ],
      "metadata": {
        "colab": {
          "base_uri": "https://localhost:8080/"
        },
        "id": "6TDr5p8PBh9U",
        "outputId": "1ff89c54-7b63-4ea1-e8c2-3170bac29a0e"
      },
      "execution_count": 28,
      "outputs": [
        {
          "output_type": "stream",
          "name": "stdout",
          "text": [
            "<class 'pandas.core.frame.DataFrame'>\n",
            "Int64Index: 13439 entries, 0 to 13438\n",
            "Data columns (total 15 columns):\n",
            " #   Column           Non-Null Count  Dtype  \n",
            "---  ------           --------------  -----  \n",
            " 0   employee_id      13439 non-null  int64  \n",
            " 1   age              13439 non-null  int64  \n",
            " 2   gender           13439 non-null  object \n",
            " 3   marital_status   13439 non-null  object \n",
            " 4   avg_monthly_hrs  13439 non-null  float64\n",
            " 5   department       13439 non-null  object \n",
            " 6   last_evaluation  12018 non-null  float64\n",
            " 7   n_projects       13439 non-null  int64  \n",
            " 8   salary           13439 non-null  object \n",
            " 9   satisfaction     13289 non-null  float64\n",
            " 10  status           13439 non-null  object \n",
            " 11  tenure           13289 non-null  float64\n",
            " 12  dept_id          13439 non-null  object \n",
            " 13  dept_name        13439 non-null  object \n",
            " 14  dept_head        13439 non-null  object \n",
            "dtypes: float64(4), int64(3), object(8)\n",
            "memory usage: 1.6+ MB\n"
          ]
        }
      ]
    },
    {
      "cell_type": "markdown",
      "source": [
        "__We'll drop the column \"department\" because \"department\" and \"dept_id are having same values\"__"
      ],
      "metadata": {
        "id": "0vemcj6vZlIp"
      }
    },
    {
      "cell_type": "code",
      "source": [
        "df_final.drop(['department'], axis=1, inplace = True)"
      ],
      "metadata": {
        "id": "jrLdtKH0ZkXi"
      },
      "execution_count": 29,
      "outputs": []
    },
    {
      "cell_type": "code",
      "source": [
        "# check the missing value percentage for the final dataset\n",
        "\n",
        "df_final.isnull().sum().sort_values(ascending=False)*100/13232"
      ],
      "metadata": {
        "colab": {
          "base_uri": "https://localhost:8080/"
        },
        "id": "ktdT6ibSBjrH",
        "outputId": "f3c1e5dd-910d-48f7-8adf-5f54dd45eb0c"
      },
      "execution_count": 30,
      "outputs": [
        {
          "output_type": "execute_result",
          "data": {
            "text/plain": [
              "last_evaluation    10.739117\n",
              "satisfaction        1.133615\n",
              "tenure              1.133615\n",
              "employee_id         0.000000\n",
              "age                 0.000000\n",
              "gender              0.000000\n",
              "marital_status      0.000000\n",
              "avg_monthly_hrs     0.000000\n",
              "n_projects          0.000000\n",
              "salary              0.000000\n",
              "status              0.000000\n",
              "dept_id             0.000000\n",
              "dept_name           0.000000\n",
              "dept_head           0.000000\n",
              "dtype: float64"
            ]
          },
          "metadata": {},
          "execution_count": 30
        }
      ]
    },
    {
      "cell_type": "code",
      "source": [
        "# Is my data normally distributed for last_evaluation column ?\n",
        "\n",
        "sns.distplot(df_final.last_evaluation, color='m')\n",
        "plt.axvline(df_final.last_evaluation.mean(), color='b')\n",
        "plt.axvline(df_final.last_evaluation.median(), color='r')\n",
        "plt.show()"
      ],
      "metadata": {
        "colab": {
          "base_uri": "https://localhost:8080/",
          "height": 280
        },
        "id": "64Zw5WEnfQ7r",
        "outputId": "8734ff5e-95ef-45a2-fc58-0260aaf9d584"
      },
      "execution_count": 31,
      "outputs": [
        {
          "output_type": "display_data",
          "data": {
            "text/plain": [
              "<Figure size 432x288 with 1 Axes>"
            ],
            "image/png": "[encoded data removed]"
          },
          "metadata": {
            "needs_background": "light"
          }
        }
      ]
    },
    {
      "cell_type": "code",
      "source": [
        "# Is my data normally distributed for satisfaction column ?\n",
        "\n",
        "sns.distplot(df_final.satisfaction, color='m')\n",
        "plt.axvline(df_final.satisfaction.mean(), color='b')\n",
        "plt.axvline(df_final.satisfaction.median(), color='r')\n",
        "plt.show()"
      ],
      "metadata": {
        "colab": {
          "base_uri": "https://localhost:8080/",
          "height": 279
        },
        "id": "Zt0mhH6rfoFn",
        "outputId": "56d7fbbe-51a2-43b0-d895-da80b22e7e1f"
      },
      "execution_count": 32,
      "outputs": [
        {
          "output_type": "display_data",
          "data": {
            "text/plain": [
              "<Figure size 432x288 with 1 Axes>"
            ],
            "image/png": "[encoded data removed]"
          },
          "metadata": {
            "needs_background": "light"
          }
        }
      ]
    },
    {
      "cell_type": "code",
      "source": [
        "# Is my data normally distributed for tenure column ?\n",
        "\n",
        "sns.distplot(df_final.tenure, color='m')\n",
        "plt.axvline(df_final.tenure.mean(), color='b')\n",
        "plt.axvline(df_final.tenure.median(), color='r')\n",
        "plt.show()"
      ],
      "metadata": {
        "colab": {
          "base_uri": "https://localhost:8080/",
          "height": 279
        },
        "id": "dxtIjBh0gIPp",
        "outputId": "1ace449e-0efc-490c-8eef-81428d9b6bb9"
      },
      "execution_count": 33,
      "outputs": [
        {
          "output_type": "display_data",
          "data": {
            "text/plain": [
              "<Figure size 432x288 with 1 Axes>"
            ],
            "image/png": "[encoded data removed]"
          },
          "metadata": {
            "needs_background": "light"
          }
        }
      ]
    },
    {
      "cell_type": "code",
      "source": [
        "# filling the missing values in \"last_evaluation\" by mean.\n",
        "df_final.last_evaluation.fillna(df_final.last_evaluation.mean(), inplace=True)\n",
        "\n",
        "# filling the missing values in \"satisfaction\" by mean.\n",
        "df_final.satisfaction.fillna(df_final.satisfaction.mean(), inplace=True)\n",
        "\n",
        "# filling the missing values in \"tenure\" by median.\n",
        "df_final.tenure.fillna(df_final.tenure.median(), inplace=True)\n",
        "\n",
        "df_final.shape"
      ],
      "metadata": {
        "colab": {
          "base_uri": "https://localhost:8080/"
        },
        "id": "db0Q4VIHgP2_",
        "outputId": "b4b9a694-b602-4172-9798-0797f2242d16"
      },
      "execution_count": 34,
      "outputs": [
        {
          "output_type": "execute_result",
          "data": {
            "text/plain": [
              "(13439, 14)"
            ]
          },
          "metadata": {},
          "execution_count": 34
        }
      ]
    },
    {
      "cell_type": "code",
      "source": [
        "# checking for duplicate data in the final dataset\n",
        "\n",
        "df_final[df_final.duplicated()].count()"
      ],
      "metadata": {
        "colab": {
          "base_uri": "https://localhost:8080/"
        },
        "id": "ld0lIQ6qmVr0",
        "outputId": "323fb003-e59b-4e54-da6a-4d07b215662a"
      },
      "execution_count": 35,
      "outputs": [
        {
          "output_type": "execute_result",
          "data": {
            "text/plain": [
              "employee_id        29\n",
              "age                29\n",
              "gender             29\n",
              "marital_status     29\n",
              "avg_monthly_hrs    29\n",
              "last_evaluation    29\n",
              "n_projects         29\n",
              "salary             29\n",
              "satisfaction       29\n",
              "status             29\n",
              "tenure             29\n",
              "dept_id            29\n",
              "dept_name          29\n",
              "dept_head          29\n",
              "dtype: int64"
            ]
          },
          "metadata": {},
          "execution_count": 35
        }
      ]
    },
    {
      "cell_type": "code",
      "source": [
        "# drop the duplicate data\n",
        "\n",
        "df_final.drop_duplicates(inplace = True,keep='first')\n",
        "df_final.shape"
      ],
      "metadata": {
        "colab": {
          "base_uri": "https://localhost:8080/"
        },
        "id": "qzszwWTXmZxU",
        "outputId": "ccd6d27c-81a9-485c-85e9-9c5f7b966656"
      },
      "execution_count": 36,
      "outputs": [
        {
          "output_type": "execute_result",
          "data": {
            "text/plain": [
              "(13410, 14)"
            ]
          },
          "metadata": {},
          "execution_count": 36
        }
      ]
    },
    {
      "cell_type": "code",
      "source": [
        "df_final.isnull().sum().sort_values(ascending=False)"
      ],
      "metadata": {
        "colab": {
          "base_uri": "https://localhost:8080/"
        },
        "id": "2q8cU12xmj8c",
        "outputId": "c8900b16-85e8-41f9-ca78-356d796775a5"
      },
      "execution_count": 37,
      "outputs": [
        {
          "output_type": "execute_result",
          "data": {
            "text/plain": [
              "employee_id        0\n",
              "age                0\n",
              "gender             0\n",
              "marital_status     0\n",
              "avg_monthly_hrs    0\n",
              "last_evaluation    0\n",
              "n_projects         0\n",
              "salary             0\n",
              "satisfaction       0\n",
              "status             0\n",
              "tenure             0\n",
              "dept_id            0\n",
              "dept_name          0\n",
              "dept_head          0\n",
              "dtype: int64"
            ]
          },
          "metadata": {},
          "execution_count": 37
        }
      ]
    },
    {
      "cell_type": "markdown",
      "source": [
        "## __We have removed missing, invalid and duplicate values from our dataset.__\n",
        "## __OUR DATASET IS CLEAN NOW__"
      ],
      "metadata": {
        "id": "UX3k0Cj8mDRn"
      }
    },
    {
      "cell_type": "code",
      "source": [
        "df_final.head()"
      ],
      "metadata": {
        "colab": {
          "base_uri": "https://localhost:8080/",
          "height": 250
        },
        "id": "fLy0k7RJjW0h",
        "outputId": "e262d7c4-46cb-4db3-e965-7ddfc5bc0070"
      },
      "execution_count": 38,
      "outputs": [
        {
          "output_type": "execute_result",
          "data": {
            "text/plain": [
              "   employee_id  age gender marital_status  avg_monthly_hrs  last_evaluation  \\\n",
              "0       113558   43   Male        Married            111.0         0.753977   \n",
              "1       108071   36   Male        Married            151.0         0.608282   \n",
              "2       110888   42   Male        Married            152.0         0.673508   \n",
              "3       115694   26   Male      Unmarried            167.0         0.874656   \n",
              "4       107767   43   Male        Married            174.0         0.634783   \n",
              "\n",
              "   n_projects  salary  satisfaction    status  tenure dept_id    dept_name  \\\n",
              "0           5  medium      0.921208  Employed     4.0  D00-PR  Procurement   \n",
              "1           5  medium      0.210300  Employed     6.0  D00-PR  Procurement   \n",
              "2           6  medium      0.720369  Employed     3.0  D00-PR  Procurement   \n",
              "3           3  medium      0.575996  Employed     4.0  D00-PR  Procurement   \n",
              "4           5  medium      0.208138  Employed     5.0  D00-PR  Procurement   \n",
              "\n",
              "     dept_head  \n",
              "0  Louie Viles  \n",
              "1  Louie Viles  \n",
              "2  Louie Viles  \n",
              "3  Louie Viles  \n",
              "4  Louie Viles  "
            ],
            "text/html": [
              "\n",
              "  <div id=\"df-82a0a36a-039a-44ff-9e60-3fd87c92d82f\">\n",
              "    <div class=\"colab-df-container\">\n",
              "      <div>\n",
              "<style scoped>\n",
              "    .dataframe tbody tr th:only-of-type {\n",
              "        vertical-align: middle;\n",
              "    }\n",
              "\n",
              "    .dataframe tbody tr th {\n",
              "        vertical-align: top;\n",
              "    }\n",
              "\n",
              "    .dataframe thead th {\n",
              "        text-align: right;\n",
              "    }\n",
              "</style>\n",
              "<table border=\"1\" class=\"dataframe\">\n",
              "  <thead>\n",
              "    <tr style=\"text-align: right;\">\n",
              "      <th></th>\n",
              "      <th>employee_id</th>\n",
              "      <th>age</th>\n",
              "      <th>gender</th>\n",
              "      <th>marital_status</th>\n",
              "      <th>avg_monthly_hrs</th>\n",
              "      <th>last_evaluation</th>\n",
              "      <th>n_projects</th>\n",
              "      <th>salary</th>\n",
              "      <th>satisfaction</th>\n",
              "      <th>status</th>\n",
              "      <th>tenure</th>\n",
              "      <th>dept_id</th>\n",
              "      <th>dept_name</th>\n",
              "      <th>dept_head</th>\n",
              "    </tr>\n",
              "  </thead>\n",
              "  <tbody>\n",
              "    <tr>\n",
              "      <th>0</th>\n",
              "      <td>113558</td>\n",
              "      <td>43</td>\n",
              "      <td>Male</td>\n",
              "      <td>Married</td>\n",
              "      <td>111.0</td>\n",
              "      <td>0.753977</td>\n",
              "      <td>5</td>\n",
              "      <td>medium</td>\n",
              "      <td>0.921208</td>\n",
              "      <td>Employed</td>\n",
              "      <td>4.0</td>\n",
              "      <td>D00-PR</td>\n",
              "      <td>Procurement</td>\n",
              "      <td>Louie Viles</td>\n",
              "    </tr>\n",
              "    <tr>\n",
              "      <th>1</th>\n",
              "      <td>108071</td>\n",
              "      <td>36</td>\n",
              "      <td>Male</td>\n",
              "      <td>Married</td>\n",
              "      <td>151.0</td>\n",
              "      <td>0.608282</td>\n",
              "      <td>5</td>\n",
              "      <td>medium</td>\n",
              "      <td>0.210300</td>\n",
              "      <td>Employed</td>\n",
              "      <td>6.0</td>\n",
              "      <td>D00-PR</td>\n",
              "      <td>Procurement</td>\n",
              "      <td>Louie Viles</td>\n",
              "    </tr>\n",
              "    <tr>\n",
              "      <th>2</th>\n",
              "      <td>110888</td>\n",
              "      <td>42</td>\n",
              "      <td>Male</td>\n",
              "      <td>Married</td>\n",
              "      <td>152.0</td>\n",
              "      <td>0.673508</td>\n",
              "      <td>6</td>\n",
              "      <td>medium</td>\n",
              "      <td>0.720369</td>\n",
              "      <td>Employed</td>\n",
              "      <td>3.0</td>\n",
              "      <td>D00-PR</td>\n",
              "      <td>Procurement</td>\n",
              "      <td>Louie Viles</td>\n",
              "    </tr>\n",
              "    <tr>\n",
              "      <th>3</th>\n",
              "      <td>115694</td>\n",
              "      <td>26</td>\n",
              "      <td>Male</td>\n",
              "      <td>Unmarried</td>\n",
              "      <td>167.0</td>\n",
              "      <td>0.874656</td>\n",
              "      <td>3</td>\n",
              "      <td>medium</td>\n",
              "      <td>0.575996</td>\n",
              "      <td>Employed</td>\n",
              "      <td>4.0</td>\n",
              "      <td>D00-PR</td>\n",
              "      <td>Procurement</td>\n",
              "      <td>Louie Viles</td>\n",
              "    </tr>\n",
              "    <tr>\n",
              "      <th>4</th>\n",
              "      <td>107767</td>\n",
              "      <td>43</td>\n",
              "      <td>Male</td>\n",
              "      <td>Married</td>\n",
              "      <td>174.0</td>\n",
              "      <td>0.634783</td>\n",
              "      <td>5</td>\n",
              "      <td>medium</td>\n",
              "      <td>0.208138</td>\n",
              "      <td>Employed</td>\n",
              "      <td>5.0</td>\n",
              "      <td>D00-PR</td>\n",
              "      <td>Procurement</td>\n",
              "      <td>Louie Viles</td>\n",
              "    </tr>\n",
              "  </tbody>\n",
              "</table>\n",
              "</div>\n",
              "      <button class=\"colab-df-convert\" onclick=\"convertToInteractive('df-82a0a36a-039a-44ff-9e60-3fd87c92d82f')\"\n",
              "              title=\"Convert this dataframe to an interactive table.\"\n",
              "              style=\"display:none;\">\n",
              "        \n",
              "  <svg xmlns=\"http://www.w3.org/2000/svg\" height=\"24px\"viewBox=\"0 0 24 24\"\n",
              "       width=\"24px\">\n",
              "    <path d=\"M0 0h24v24H0V0z\" fill=\"none\"/>\n",
              "    <path d=\"M18.56 5.44l.94 2.06.94-2.06 2.06-.94-2.06-.94-.94-2.06-.94 2.06-2.06.94zm-11 1L8.5 8.5l.94-2.06 2.06-.94-2.06-.94L8.5 2.5l-.94 2.06-2.06.94zm10 10l.94 2.06.94-2.06 2.06-.94-2.06-.94-.94-2.06-.94 2.06-2.06.94z\"/><path d=\"M17.41 7.96l-1.37-1.37c-.4-.4-.92-.59-1.43-.59-.52 0-1.04.2-1.43.59L10.3 9.45l-7.72 7.72c-.78.78-.78 2.05 0 2.83L4 21.41c.39.39.9.59 1.41.59.51 0 1.02-.2 1.41-.59l7.78-7.78 2.81-2.81c.8-.78.8-2.07 0-2.86zM5.41 20L4 18.59l7.72-7.72 1.47 1.35L5.41 20z\"/>\n",
              "  </svg>\n",
              "      </button>\n",
              "      \n",
              "  <style>\n",
              "    .colab-df-container {\n",
              "      display:flex;\n",
              "      flex-wrap:wrap;\n",
              "      gap: 12px;\n",
              "    }\n",
              "\n",
              "    .colab-df-convert {\n",
              "      background-color: #E8F0FE;\n",
              "      border: none;\n",
              "      border-radius: 50%;\n",
              "      cursor: pointer;\n",
              "      display: none;\n",
              "      fill: #1967D2;\n",
              "      height: 32px;\n",
              "      padding: 0 0 0 0;\n",
              "      width: 32px;\n",
              "    }\n",
              "\n",
              "    .colab-df-convert:hover {\n",
              "      background-color: #E2EBFA;\n",
              "      box-shadow: 0px 1px 2px rgba(60, 64, 67, 0.3), 0px 1px 3px 1px rgba(60, 64, 67, 0.15);\n",
              "      fill: #174EA6;\n",
              "    }\n",
              "\n",
              "    [theme=dark] .colab-df-convert {\n",
              "      background-color: #3B4455;\n",
              "      fill: #D2E3FC;\n",
              "    }\n",
              "\n",
              "    [theme=dark] .colab-df-convert:hover {\n",
              "      background-color: #434B5C;\n",
              "      box-shadow: 0px 1px 3px 1px rgba(0, 0, 0, 0.15);\n",
              "      filter: drop-shadow(0px 1px 2px rgba(0, 0, 0, 0.3));\n",
              "      fill: #FFFFFF;\n",
              "    }\n",
              "  </style>\n",
              "\n",
              "      <script>\n",
              "        const buttonEl =\n",
              "          document.querySelector('#df-82a0a36a-039a-44ff-9e60-3fd87c92d82f button.colab-df-convert');\n",
              "        buttonEl.style.display =\n",
              "          google.colab.kernel.accessAllowed ? 'block' : 'none';\n",
              "\n",
              "        async function convertToInteractive(key) {\n",
              "          const element = document.querySelector('#df-82a0a36a-039a-44ff-9e60-3fd87c92d82f');\n",
              "          const dataTable =\n",
              "            await google.colab.kernel.invokeFunction('convertToInteractive',\n",
              "                                                     [key], {});\n",
              "          if (!dataTable) return;\n",
              "\n",
              "          const docLinkHtml = 'Like what you see? Visit the ' +\n",
              "            '<a target=\"_blank\" href=https://colab.research.google.com/notebooks/data_table.ipynb>data table notebook</a>'\n",
              "            + ' to learn more about interactive tables.';\n",
              "          element.innerHTML = '';\n",
              "          dataTable['output_type'] = 'display_data';\n",
              "          await google.colab.output.renderOutput(dataTable, element);\n",
              "          const docLink = document.createElement('div');\n",
              "          docLink.innerHTML = docLinkHtml;\n",
              "          element.appendChild(docLink);\n",
              "        }\n",
              "      </script>\n",
              "    </div>\n",
              "  </div>\n",
              "  "
            ]
          },
          "metadata": {},
          "execution_count": 38
        }
      ]
    },
    {
      "cell_type": "code",
      "source": [
        "x = df_final.corr()\n",
        "sns.heatmap(x, annot=True)\n",
        "plt.show()"
      ],
      "metadata": {
        "colab": {
          "base_uri": "https://localhost:8080/",
          "height": 344
        },
        "id": "Zef03p4jlg7H",
        "outputId": "fdcd7fd8-6fbe-4030-eb87-da4c4e391cdd"
      },
      "execution_count": 39,
      "outputs": [
        {
          "output_type": "display_data",
          "data": {
            "text/plain": [
              "<Figure size 432x288 with 2 Axes>"
            ],
            "image/png": "[encoded data removed]"
          },
          "metadata": {
            "needs_background": "light"
          }
        }
      ]
    },
    {
      "cell_type": "code",
      "source": [
        ""
      ],
      "metadata": {
        "id": "HoZgQ--Rneus"
      },
      "execution_count": 39,
      "outputs": []
    }
  ]
}